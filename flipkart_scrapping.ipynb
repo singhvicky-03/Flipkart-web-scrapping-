{
 "cells": [
  {
   "cell_type": "code",
   "execution_count": 111,
   "id": "e46f648b-232c-412f-abbd-9e6ee45a8f94",
   "metadata": {},
   "outputs": [],
   "source": [
    "import pandas as pd\n",
    "import requests\n",
    "from bs4 import BeautifulSoup"
   ]
  },
  {
   "cell_type": "code",
   "execution_count": 113,
   "id": "b5f0a735-cd6e-4389-9ba4-dd09fa9bab0e",
   "metadata": {},
   "outputs": [],
   "source": [
    "url_1=(\"https://www.flipkart.com/ckf/czl/~cs-jkcie3mtqn/pr?sid=ckf%2Cczl&collection-tab-name=Top+4K+Smart+TVs&pageCriteria=default&sort=popularity&ctx=eyJjYXJkQ29udGV4dCI6eyJhdHRyaWJ1dGVzIjp7InRpdGxlIjp7Im11bHRpVmFsdWVkQXR0cmlidXRlIjp7ImtleSI6InRpdGxlIiwiaW5mZXJlbmNlVHlwZSI6IlRJVExFIiwidmFsdWVzIjpbIlRvcCA0SyBTbWFydCBUVnMiXSwidmFsdWVUeXBlIjoiTVVMVElfVkFMVUVEIn19fX19&wid=9.productCard.PMU_V2_3\")"
   ]
  },
  {
   "cell_type": "code",
   "execution_count": 115,
   "id": "c58cb951-4857-4770-9c33-1dcad9f022d1",
   "metadata": {},
   "outputs": [
    {
     "name": "stdout",
     "output_type": "stream",
     "text": [
      "<Response [200]>\n"
     ]
    }
   ],
   "source": [
    "r=requests.get(url_1)\n",
    "print(r)"
   ]
  },
  {
   "cell_type": "code",
   "execution_count": 116,
   "id": "07f322ae-f56f-4738-b26d-d259e6831271",
   "metadata": {},
   "outputs": [],
   "source": [
    "s=BeautifulSoup(r.text,\"html\")\n",
    "# print(s)"
   ]
  },
  {
   "cell_type": "code",
   "execution_count": 117,
   "id": "26368e0e-7d0b-4e76-9b64-7a87d0fce6a3",
   "metadata": {},
   "outputs": [
    {
     "name": "stdout",
     "output_type": "stream",
     "text": [
      "[<div class=\"KzDlHZ\">LG UR7500 108 cm (43 inch) Ultra HD (4K) LED Smart WebOS TV with Alpha5 AI Processor 4K Gen6, AI Pictu...</div>, <div class=\"KzDlHZ\">TCL C69B 139 cm (55 inch) QLED Ultra HD (4K) Smart Google TV with Dolby Atmos 35W, ONKYO 2.1ch with Su...</div>, <div class=\"KzDlHZ\">iFFALCON by TCL U64 139 cm (55 inch) Ultra HD (4K) LED Smart Google TV with 24W Dolby Audio, HDR10</div>, <div class=\"KzDlHZ\">REDMI MI XIAOMI 138 cm (55 inch) Ultra HD (4K) LED Smart FireTv OS 7 TV 2024 Edition with 12000+ Apps|...</div>, <div class=\"KzDlHZ\">REDMI MI XIAOMI 108 cm (43 inch) Ultra HD (4K) LED Smart FireTv OS 7 TV 2024 Edition with 12000+ Apps|...</div>, <div class=\"KzDlHZ\">iFFALCON by TCL U64 108 cm (43 inch) Ultra HD (4K) LED Smart Google TV with 24W Dolby Audio, HDR10</div>, <div class=\"KzDlHZ\">Thomson Phoenix 108 cm (43 inch) QLED Ultra HD (4K) Smart Google TV Dolby Vision &amp; Atmos</div>, <div class=\"KzDlHZ\">SONY Bravia 2 108 cm (43 inch) Ultra HD (4K) LED Smart Google TV 2024 Edition</div>, <div class=\"KzDlHZ\">Mi by Xiaomi X Series 125 cm (50 inch) Ultra HD (4K) LED Smart Google TV with 4K Dolby Vision | HDR 10...</div>, <div class=\"KzDlHZ\">TCL V6B 108 cm (43 inch) Ultra HD (4K) LED Smart Google TV 2024 Edition with 24W Dolby Audio and Metal...</div>, <div class=\"KzDlHZ\">SAMSUNG New D Series Brighter Crystal 4K Vision Pro (2024 Edition) 108 cm (43 inch) Ultra HD (4K) LED ...</div>, <div class=\"KzDlHZ\">Vu 139 cm (55 inch) Ultra HD (4K) LED Smart Google TV with VuOn 1.5 Processor I Perfect Phone Partner ...</div>, <div class=\"KzDlHZ\">Vu 126 cm (50 inch) Ultra HD (4K) LED Smart Google TV with VuOn 1.5 Processor I Perfect Phone Partner ...</div>, <div class=\"KzDlHZ\">Mi by Xiaomi X Series 108 cm (43 inch) Ultra HD (4K) LED Smart Google TV 2024 Edition with 4K Dolby Vi...</div>, <div class=\"KzDlHZ\">realme TechLife CineSonic Q 109 cm (43 inch) QLED Ultra HD (4K) Smart Google TV</div>, <div class=\"KzDlHZ\">Vu GloLED 108 cm (43 inch) Ultra HD (4K) LED Smart Google TV with DJ Subwoofer 84W</div>, <div class=\"KzDlHZ\">TCL V6B 126 cm (50 inch) Ultra HD (4K) LED Smart Google TV 2024 Edition with 24W Dolby Audio and Metal...</div>, <div class=\"KzDlHZ\">realme TechLife CineSonic 109 cm (43 inch) Ultra HD (4K) LED Smart Google TV 2024 Edition</div>, <div class=\"KzDlHZ\">Mi by Xiaomi X Series 125 cm (50 inch) Ultra HD (4K) LED Smart Google TV 2024 Edition with 4K Dolby Vi...</div>, <div class=\"KzDlHZ\">MOTOROLA EnvisionX 165 cm (65 inch) QLED Ultra HD (4K) Smart Google TV with Dolby Vision and Dolby Atm...</div>, <div class=\"KzDlHZ\">Acer I PRO Series 138.7 cm (55 inch) Ultra HD (4K) LED Smart Google TV 2024 Edition with Android 14 (B...</div>, <div class=\"KzDlHZ\">TCL P71B Pro 139 cm (55 inch) QLED Ultra HD (4K) Smart Google TV Hands Free Voice Control |Dolby Visio...</div>, <div class=\"KzDlHZ\">Vu GloLED 139 cm (55 inch) Ultra HD (4K) LED Smart Google TV with DJ Subwoofer 104W</div>, <div class=\"KzDlHZ\">LG UR7500 126 cm (50 inch) Ultra HD (4K) LED Smart WebOS TV with Alpha5 AI Processor 4K Gen6, AI Pictu...</div>]\n"
     ]
    }
   ],
   "source": [
    "names =s.find_all('div', class_ ='KzDlHZ')\n",
    "print(names)"
   ]
  },
  {
   "cell_type": "code",
   "execution_count": 121,
   "id": "f88dcd54-7860-47d9-9451-89240a2eeb05",
   "metadata": {},
   "outputs": [
    {
     "name": "stdout",
     "output_type": "stream",
     "text": [
      "['LG UR7500 108 cm (43 inch) Ultra HD (4K) LED Smart WebOS TV with Alpha5 AI Processor 4K Gen6, AI Pictu...', 'TCL C69B 139 cm (55 inch) QLED Ultra HD (4K) Smart Google TV with Dolby Atmos 35W, ONKYO 2.1ch with Su...', 'iFFALCON by TCL U64 139 cm (55 inch) Ultra HD (4K) LED Smart Google TV with 24W Dolby Audio, HDR10', 'REDMI MI XIAOMI 138 cm (55 inch) Ultra HD (4K) LED Smart FireTv OS 7 TV 2024 Edition with 12000+ Apps|...', 'REDMI MI XIAOMI 108 cm (43 inch) Ultra HD (4K) LED Smart FireTv OS 7 TV 2024 Edition with 12000+ Apps|...', 'iFFALCON by TCL U64 108 cm (43 inch) Ultra HD (4K) LED Smart Google TV with 24W Dolby Audio, HDR10', 'Thomson Phoenix 108 cm (43 inch) QLED Ultra HD (4K) Smart Google TV Dolby Vision & Atmos', 'SONY Bravia 2 108 cm (43 inch) Ultra HD (4K) LED Smart Google TV 2024 Edition', 'Mi by Xiaomi X Series 125 cm (50 inch) Ultra HD (4K) LED Smart Google TV with 4K Dolby Vision | HDR 10...', 'TCL V6B 108 cm (43 inch) Ultra HD (4K) LED Smart Google TV 2024 Edition with 24W Dolby Audio and Metal...', 'SAMSUNG New D Series Brighter Crystal 4K Vision Pro (2024 Edition) 108 cm (43 inch) Ultra HD (4K) LED ...', 'Vu 139 cm (55 inch) Ultra HD (4K) LED Smart Google TV with VuOn 1.5 Processor I Perfect Phone Partner ...', 'Vu 126 cm (50 inch) Ultra HD (4K) LED Smart Google TV with VuOn 1.5 Processor I Perfect Phone Partner ...', 'Mi by Xiaomi X Series 108 cm (43 inch) Ultra HD (4K) LED Smart Google TV 2024 Edition with 4K Dolby Vi...', 'realme TechLife CineSonic Q 109 cm (43 inch) QLED Ultra HD (4K) Smart Google TV', 'Vu GloLED 108 cm (43 inch) Ultra HD (4K) LED Smart Google TV with DJ Subwoofer 84W', 'TCL V6B 126 cm (50 inch) Ultra HD (4K) LED Smart Google TV 2024 Edition with 24W Dolby Audio and Metal...', 'realme TechLife CineSonic 109 cm (43 inch) Ultra HD (4K) LED Smart Google TV 2024 Edition', 'Mi by Xiaomi X Series 125 cm (50 inch) Ultra HD (4K) LED Smart Google TV 2024 Edition with 4K Dolby Vi...', 'MOTOROLA EnvisionX 165 cm (65 inch) QLED Ultra HD (4K) Smart Google TV with Dolby Vision and Dolby Atm...', 'Acer I PRO Series 138.7 cm (55 inch) Ultra HD (4K) LED Smart Google TV 2024 Edition with Android 14 (B...', 'TCL P71B Pro 139 cm (55 inch) QLED Ultra HD (4K) Smart Google TV Hands Free Voice Control |Dolby Visio...', 'Vu GloLED 139 cm (55 inch) Ultra HD (4K) LED Smart Google TV with DJ Subwoofer 104W', 'LG UR7500 126 cm (50 inch) Ultra HD (4K) LED Smart WebOS TV with Alpha5 AI Processor 4K Gen6, AI Pictu...']\n"
     ]
    }
   ],
   "source": [
    "Product_Names=[]\n",
    "for i in names:\n",
    "    names=i.text\n",
    "    Product_Names.append(names)\n",
    "print(Product_Names)"
   ]
  },
  {
   "cell_type": "code",
   "execution_count": 123,
   "id": "fbdf90ed-d7c9-47b1-9495-980b30fff91b",
   "metadata": {},
   "outputs": [
    {
     "name": "stdout",
     "output_type": "stream",
     "text": [
      "[<div class=\"Nx9bqj _4b5DiR\">₹30,990</div>, <div class=\"Nx9bqj _4b5DiR\">₹36,990</div>, <div class=\"Nx9bqj _4b5DiR\">₹26,999</div>, <div class=\"Nx9bqj _4b5DiR\">₹32,999</div>, <div class=\"Nx9bqj _4b5DiR\">₹26,999</div>, <div class=\"Nx9bqj _4b5DiR\">₹18,999</div>, <div class=\"Nx9bqj _4b5DiR\">₹20,499</div>, <div class=\"Nx9bqj _4b5DiR\">₹38,990</div>, <div class=\"Nx9bqj _4b5DiR\">₹29,999</div>, <div class=\"Nx9bqj _4b5DiR\">₹21,990</div>, <div class=\"Nx9bqj _4b5DiR\">₹31,990</div>, <div class=\"Nx9bqj _4b5DiR\">₹33,999</div>, <div class=\"Nx9bqj _4b5DiR\">₹29,999</div>, <div class=\"Nx9bqj _4b5DiR\">₹28,999</div>, <div class=\"Nx9bqj _4b5DiR\">₹23,499</div>, <div class=\"Nx9bqj _4b5DiR\">₹25,990</div>, <div class=\"Nx9bqj _4b5DiR\">₹28,490</div>, <div class=\"Nx9bqj _4b5DiR\">₹20,999</div>, <div class=\"Nx9bqj _4b5DiR\">₹32,990</div>, <div class=\"Nx9bqj _4b5DiR\">₹42,999</div>, <div class=\"Nx9bqj _4b5DiR\">₹29,999</div>, <div class=\"Nx9bqj _4b5DiR\">₹32,990</div>, <div class=\"Nx9bqj _4b5DiR\">₹35,990</div>, <div class=\"Nx9bqj _4b5DiR\">₹38,990</div>]\n"
     ]
    }
   ],
   "source": [
    "pricelist=s.find_all('div', class_='Nx9bqj _4b5DiR')\n",
    "print(pricelist)"
   ]
  },
  {
   "cell_type": "code",
   "execution_count": 125,
   "id": "05f0fb07-904a-4478-aa78-69054912c618",
   "metadata": {},
   "outputs": [
    {
     "name": "stdout",
     "output_type": "stream",
     "text": [
      "['₹30,990', '₹36,990', '₹26,999', '₹32,999', '₹26,999', '₹18,999', '₹20,499', '₹38,990', '₹29,999', '₹21,990', '₹31,990', '₹33,999', '₹29,999', '₹28,999', '₹23,499', '₹25,990', '₹28,490', '₹20,999', '₹32,990', '₹42,999', '₹29,999', '₹32,990', '₹35,990', '₹38,990']\n"
     ]
    }
   ],
   "source": [
    "prices=[]\n",
    "for i in pricelist:\n",
    "    pricelist=i.text\n",
    "    prices.append(pricelist)\n",
    "print(prices)"
   ]
  },
  {
   "cell_type": "code",
   "execution_count": 127,
   "id": "74603c98-3f11-423d-b94c-f012531dfd6a",
   "metadata": {},
   "outputs": [
    {
     "name": "stdout",
     "output_type": "stream",
     "text": [
      "[<div class=\"UkUFwK\"><span>38% off</span></div>, <div class=\"UkUFwK\"><span>69% off</span></div>, <div class=\"UkUFwK\"><span>63% off</span></div>, <div class=\"UkUFwK\"><span>40% off</span></div>, <div class=\"UkUFwK\"><span>37% off</span></div>, <div class=\"UkUFwK\"><span>62% off</span></div>, <div class=\"UkUFwK\"><span>35% off</span></div>, <div class=\"UkUFwK\"><span>34% off</span></div>, <div class=\"UkUFwK\"><span>33% off</span></div>, <div class=\"UkUFwK\"><span>58% off</span></div>, <div class=\"UkUFwK\"><span>31% off</span></div>, <div class=\"UkUFwK\"><span>47% off</span></div>, <div class=\"UkUFwK\"><span>45% off</span></div>, <div class=\"UkUFwK\"><span>32% off</span></div>, <div class=\"UkUFwK\"><span>48% off</span></div>, <div class=\"UkUFwK\"><span>35% off</span></div>, <div class=\"UkUFwK\"><span>56% off</span></div>, <div class=\"UkUFwK\"><span>50% off</span></div>, <div class=\"UkUFwK\"><span>34% off</span></div>, <div class=\"UkUFwK\"><span>69% off</span></div>, <div class=\"UkUFwK\"><span>58% off</span></div>, <div class=\"UkUFwK\"><span>58% off</span></div>, <div class=\"UkUFwK\"><span>44% off</span></div>, <div class=\"UkUFwK\"><span>44% off</span></div>, <div class=\"UkUFwK WMQHm1\"><span>50% off</span></div>, <div class=\"UkUFwK WMQHm1\"><span>58% off</span></div>, <div class=\"UkUFwK WMQHm1\"><span>44% off</span></div>, <div class=\"UkUFwK WMQHm1\"><span>69% off</span></div>, <div class=\"UkUFwK WMQHm1\"><span>31% off</span></div>]\n"
     ]
    }
   ],
   "source": [
    "discount=s.find_all('div', class_='UkUFwK')\n",
    "print(discount)"
   ]
  },
  {
   "cell_type": "code",
   "execution_count": 129,
   "id": "c14fa1bf-bb5c-4bba-a300-f351c5681e5b",
   "metadata": {},
   "outputs": [
    {
     "name": "stdout",
     "output_type": "stream",
     "text": [
      "['38% off', '69% off', '63% off', '40% off', '37% off', '62% off', '35% off', '34% off', '33% off', '58% off', '31% off', '47% off', '45% off', '32% off', '48% off', '35% off', '56% off', '50% off', '34% off', '69% off', '58% off', '58% off', '44% off', '44% off', '50% off', '58% off', '44% off', '69% off', '31% off']\n"
     ]
    }
   ],
   "source": [
    "Discounts=[]\n",
    "for i in discount:\n",
    "    discount=i.text\n",
    "    Discounts.append(discount)\n",
    "print(Discounts)"
   ]
  },
  {
   "cell_type": "code",
   "execution_count": 131,
   "id": "dcbf435b-fbef-4e4c-a009-6683edb5be75",
   "metadata": {},
   "outputs": [
    {
     "name": "stdout",
     "output_type": "stream",
     "text": [
      "[<div class=\"XQDdHH\">4.4<img class=\"Rza2QY\" src=\"data:image/svg+xml;base64,PHN2ZyB4bWxucz0iaHR0cDovL3d3dy53My5vcmcvMjAwMC9zdmciIHdpZHRoPSIxMyIgaGVpZ2h0PSIxMiI+PHBhdGggZmlsbD0iI0ZGRiIgZD0iTTYuNSA5LjQzOWwtMy42NzQgMi4yMy45NC00LjI2LTMuMjEtMi44ODMgNC4yNTQtLjQwNEw2LjUuMTEybDEuNjkgNC4wMSA0LjI1NC40MDQtMy4yMSAyLjg4Mi45NCA0LjI2eiIvPjwvc3ZnPg==\"/></div>, <div class=\"XQDdHH\">4.2<img class=\"Rza2QY\" src=\"data:image/svg+xml;base64,PHN2ZyB4bWxucz0iaHR0cDovL3d3dy53My5vcmcvMjAwMC9zdmciIHdpZHRoPSIxMyIgaGVpZ2h0PSIxMiI+PHBhdGggZmlsbD0iI0ZGRiIgZD0iTTYuNSA5LjQzOWwtMy42NzQgMi4yMy45NC00LjI2LTMuMjEtMi44ODMgNC4yNTQtLjQwNEw2LjUuMTEybDEuNjkgNC4wMSA0LjI1NC40MDQtMy4yMSAyLjg4Mi45NCA0LjI2eiIvPjwvc3ZnPg==\"/></div>, <div class=\"XQDdHH\">4.2<img class=\"Rza2QY\" src=\"data:image/svg+xml;base64,PHN2ZyB4bWxucz0iaHR0cDovL3d3dy53My5vcmcvMjAwMC9zdmciIHdpZHRoPSIxMyIgaGVpZ2h0PSIxMiI+PHBhdGggZmlsbD0iI0ZGRiIgZD0iTTYuNSA5LjQzOWwtMy42NzQgMi4yMy45NC00LjI2LTMuMjEtMi44ODMgNC4yNTQtLjQwNEw2LjUuMTEybDEuNjkgNC4wMSA0LjI1NC40MDQtMy4yMSAyLjg4Mi45NCA0LjI2eiIvPjwvc3ZnPg==\"/></div>, <div class=\"XQDdHH\">4.2<img class=\"Rza2QY\" src=\"data:image/svg+xml;base64,PHN2ZyB4bWxucz0iaHR0cDovL3d3dy53My5vcmcvMjAwMC9zdmciIHdpZHRoPSIxMyIgaGVpZ2h0PSIxMiI+PHBhdGggZmlsbD0iI0ZGRiIgZD0iTTYuNSA5LjQzOWwtMy42NzQgMi4yMy45NC00LjI2LTMuMjEtMi44ODMgNC4yNTQtLjQwNEw2LjUuMTEybDEuNjkgNC4wMSA0LjI1NC40MDQtMy4yMSAyLjg4Mi45NCA0LjI2eiIvPjwvc3ZnPg==\"/></div>, <div class=\"XQDdHH\">4.2<img class=\"Rza2QY\" src=\"data:image/svg+xml;base64,PHN2ZyB4bWxucz0iaHR0cDovL3d3dy53My5vcmcvMjAwMC9zdmciIHdpZHRoPSIxMyIgaGVpZ2h0PSIxMiI+PHBhdGggZmlsbD0iI0ZGRiIgZD0iTTYuNSA5LjQzOWwtMy42NzQgMi4yMy45NC00LjI2LTMuMjEtMi44ODMgNC4yNTQtLjQwNEw2LjUuMTEybDEuNjkgNC4wMSA0LjI1NC40MDQtMy4yMSAyLjg4Mi45NCA0LjI2eiIvPjwvc3ZnPg==\"/></div>, <div class=\"XQDdHH\">4.2<img class=\"Rza2QY\" src=\"data:image/svg+xml;base64,PHN2ZyB4bWxucz0iaHR0cDovL3d3dy53My5vcmcvMjAwMC9zdmciIHdpZHRoPSIxMyIgaGVpZ2h0PSIxMiI+PHBhdGggZmlsbD0iI0ZGRiIgZD0iTTYuNSA5LjQzOWwtMy42NzQgMi4yMy45NC00LjI2LTMuMjEtMi44ODMgNC4yNTQtLjQwNEw2LjUuMTEybDEuNjkgNC4wMSA0LjI1NC40MDQtMy4yMSAyLjg4Mi45NCA0LjI2eiIvPjwvc3ZnPg==\"/></div>, <div class=\"XQDdHH\">4.4<img class=\"Rza2QY\" src=\"data:image/svg+xml;base64,PHN2ZyB4bWxucz0iaHR0cDovL3d3dy53My5vcmcvMjAwMC9zdmciIHdpZHRoPSIxMyIgaGVpZ2h0PSIxMiI+PHBhdGggZmlsbD0iI0ZGRiIgZD0iTTYuNSA5LjQzOWwtMy42NzQgMi4yMy45NC00LjI2LTMuMjEtMi44ODMgNC4yNTQtLjQwNEw2LjUuMTEybDEuNjkgNC4wMSA0LjI1NC40MDQtMy4yMSAyLjg4Mi45NCA0LjI2eiIvPjwvc3ZnPg==\"/></div>, <div class=\"XQDdHH\">4.6<img class=\"Rza2QY\" src=\"data:image/svg+xml;base64,PHN2ZyB4bWxucz0iaHR0cDovL3d3dy53My5vcmcvMjAwMC9zdmciIHdpZHRoPSIxMyIgaGVpZ2h0PSIxMiI+PHBhdGggZmlsbD0iI0ZGRiIgZD0iTTYuNSA5LjQzOWwtMy42NzQgMi4yMy45NC00LjI2LTMuMjEtMi44ODMgNC4yNTQtLjQwNEw2LjUuMTEybDEuNjkgNC4wMSA0LjI1NC40MDQtMy4yMSAyLjg4Mi45NCA0LjI2eiIvPjwvc3ZnPg==\"/></div>, <div class=\"XQDdHH\">4.3<img class=\"Rza2QY\" src=\"data:image/svg+xml;base64,PHN2ZyB4bWxucz0iaHR0cDovL3d3dy53My5vcmcvMjAwMC9zdmciIHdpZHRoPSIxMyIgaGVpZ2h0PSIxMiI+PHBhdGggZmlsbD0iI0ZGRiIgZD0iTTYuNSA5LjQzOWwtMy42NzQgMi4yMy45NC00LjI2LTMuMjEtMi44ODMgNC4yNTQtLjQwNEw2LjUuMTEybDEuNjkgNC4wMSA0LjI1NC40MDQtMy4yMSAyLjg4Mi45NCA0LjI2eiIvPjwvc3ZnPg==\"/></div>, <div class=\"XQDdHH\">4.1<img class=\"Rza2QY\" src=\"data:image/svg+xml;base64,PHN2ZyB4bWxucz0iaHR0cDovL3d3dy53My5vcmcvMjAwMC9zdmciIHdpZHRoPSIxMyIgaGVpZ2h0PSIxMiI+PHBhdGggZmlsbD0iI0ZGRiIgZD0iTTYuNSA5LjQzOWwtMy42NzQgMi4yMy45NC00LjI2LTMuMjEtMi44ODMgNC4yNTQtLjQwNEw2LjUuMTEybDEuNjkgNC4wMSA0LjI1NC40MDQtMy4yMSAyLjg4Mi45NCA0LjI2eiIvPjwvc3ZnPg==\"/></div>, <div class=\"XQDdHH\">4.3<img class=\"Rza2QY\" src=\"data:image/svg+xml;base64,PHN2ZyB4bWxucz0iaHR0cDovL3d3dy53My5vcmcvMjAwMC9zdmciIHdpZHRoPSIxMyIgaGVpZ2h0PSIxMiI+PHBhdGggZmlsbD0iI0ZGRiIgZD0iTTYuNSA5LjQzOWwtMy42NzQgMi4yMy45NC00LjI2LTMuMjEtMi44ODMgNC4yNTQtLjQwNEw2LjUuMTEybDEuNjkgNC4wMSA0LjI1NC40MDQtMy4yMSAyLjg4Mi45NCA0LjI2eiIvPjwvc3ZnPg==\"/></div>, <div class=\"XQDdHH\">4.4<img class=\"Rza2QY\" src=\"data:image/svg+xml;base64,PHN2ZyB4bWxucz0iaHR0cDovL3d3dy53My5vcmcvMjAwMC9zdmciIHdpZHRoPSIxMyIgaGVpZ2h0PSIxMiI+PHBhdGggZmlsbD0iI0ZGRiIgZD0iTTYuNSA5LjQzOWwtMy42NzQgMi4yMy45NC00LjI2LTMuMjEtMi44ODMgNC4yNTQtLjQwNEw2LjUuMTEybDEuNjkgNC4wMSA0LjI1NC40MDQtMy4yMSAyLjg4Mi45NCA0LjI2eiIvPjwvc3ZnPg==\"/></div>, <div class=\"XQDdHH\">4.4<img class=\"Rza2QY\" src=\"data:image/svg+xml;base64,PHN2ZyB4bWxucz0iaHR0cDovL3d3dy53My5vcmcvMjAwMC9zdmciIHdpZHRoPSIxMyIgaGVpZ2h0PSIxMiI+PHBhdGggZmlsbD0iI0ZGRiIgZD0iTTYuNSA5LjQzOWwtMy42NzQgMi4yMy45NC00LjI2LTMuMjEtMi44ODMgNC4yNTQtLjQwNEw2LjUuMTEybDEuNjkgNC4wMSA0LjI1NC40MDQtMy4yMSAyLjg4Mi45NCA0LjI2eiIvPjwvc3ZnPg==\"/></div>, <div class=\"XQDdHH\">4.3<img class=\"Rza2QY\" src=\"data:image/svg+xml;base64,PHN2ZyB4bWxucz0iaHR0cDovL3d3dy53My5vcmcvMjAwMC9zdmciIHdpZHRoPSIxMyIgaGVpZ2h0PSIxMiI+PHBhdGggZmlsbD0iI0ZGRiIgZD0iTTYuNSA5LjQzOWwtMy42NzQgMi4yMy45NC00LjI2LTMuMjEtMi44ODMgNC4yNTQtLjQwNEw2LjUuMTEybDEuNjkgNC4wMSA0LjI1NC40MDQtMy4yMSAyLjg4Mi45NCA0LjI2eiIvPjwvc3ZnPg==\"/></div>, <div class=\"XQDdHH\">4.3<img class=\"Rza2QY\" src=\"data:image/svg+xml;base64,PHN2ZyB4bWxucz0iaHR0cDovL3d3dy53My5vcmcvMjAwMC9zdmciIHdpZHRoPSIxMyIgaGVpZ2h0PSIxMiI+PHBhdGggZmlsbD0iI0ZGRiIgZD0iTTYuNSA5LjQzOWwtMy42NzQgMi4yMy45NC00LjI2LTMuMjEtMi44ODMgNC4yNTQtLjQwNEw2LjUuMTEybDEuNjkgNC4wMSA0LjI1NC40MDQtMy4yMSAyLjg4Mi45NCA0LjI2eiIvPjwvc3ZnPg==\"/></div>, <div class=\"XQDdHH\">4.4<img class=\"Rza2QY\" src=\"data:image/svg+xml;base64,PHN2ZyB4bWxucz0iaHR0cDovL3d3dy53My5vcmcvMjAwMC9zdmciIHdpZHRoPSIxMyIgaGVpZ2h0PSIxMiI+PHBhdGggZmlsbD0iI0ZGRiIgZD0iTTYuNSA5LjQzOWwtMy42NzQgMi4yMy45NC00LjI2LTMuMjEtMi44ODMgNC4yNTQtLjQwNEw2LjUuMTEybDEuNjkgNC4wMSA0LjI1NC40MDQtMy4yMSAyLjg4Mi45NCA0LjI2eiIvPjwvc3ZnPg==\"/></div>, <div class=\"XQDdHH\">4.1<img class=\"Rza2QY\" src=\"data:image/svg+xml;base64,PHN2ZyB4bWxucz0iaHR0cDovL3d3dy53My5vcmcvMjAwMC9zdmciIHdpZHRoPSIxMyIgaGVpZ2h0PSIxMiI+PHBhdGggZmlsbD0iI0ZGRiIgZD0iTTYuNSA5LjQzOWwtMy42NzQgMi4yMy45NC00LjI2LTMuMjEtMi44ODMgNC4yNTQtLjQwNEw2LjUuMTEybDEuNjkgNC4wMSA0LjI1NC40MDQtMy4yMSAyLjg4Mi45NCA0LjI2eiIvPjwvc3ZnPg==\"/></div>, <div class=\"XQDdHH\">4.3<img class=\"Rza2QY\" src=\"data:image/svg+xml;base64,PHN2ZyB4bWxucz0iaHR0cDovL3d3dy53My5vcmcvMjAwMC9zdmciIHdpZHRoPSIxMyIgaGVpZ2h0PSIxMiI+PHBhdGggZmlsbD0iI0ZGRiIgZD0iTTYuNSA5LjQzOWwtMy42NzQgMi4yMy45NC00LjI2LTMuMjEtMi44ODMgNC4yNTQtLjQwNEw2LjUuMTEybDEuNjkgNC4wMSA0LjI1NC40MDQtMy4yMSAyLjg4Mi45NCA0LjI2eiIvPjwvc3ZnPg==\"/></div>, <div class=\"XQDdHH\">4.3<img class=\"Rza2QY\" src=\"data:image/svg+xml;base64,PHN2ZyB4bWxucz0iaHR0cDovL3d3dy53My5vcmcvMjAwMC9zdmciIHdpZHRoPSIxMyIgaGVpZ2h0PSIxMiI+PHBhdGggZmlsbD0iI0ZGRiIgZD0iTTYuNSA5LjQzOWwtMy42NzQgMi4yMy45NC00LjI2LTMuMjEtMi44ODMgNC4yNTQtLjQwNEw2LjUuMTEybDEuNjkgNC4wMSA0LjI1NC40MDQtMy4yMSAyLjg4Mi45NCA0LjI2eiIvPjwvc3ZnPg==\"/></div>, <div class=\"XQDdHH\">4.3<img class=\"Rza2QY\" src=\"data:image/svg+xml;base64,PHN2ZyB4bWxucz0iaHR0cDovL3d3dy53My5vcmcvMjAwMC9zdmciIHdpZHRoPSIxMyIgaGVpZ2h0PSIxMiI+PHBhdGggZmlsbD0iI0ZGRiIgZD0iTTYuNSA5LjQzOWwtMy42NzQgMi4yMy45NC00LjI2LTMuMjEtMi44ODMgNC4yNTQtLjQwNEw2LjUuMTEybDEuNjkgNC4wMSA0LjI1NC40MDQtMy4yMSAyLjg4Mi45NCA0LjI2eiIvPjwvc3ZnPg==\"/></div>, <div class=\"XQDdHH\">4.2<img class=\"Rza2QY\" src=\"data:image/svg+xml;base64,PHN2ZyB4bWxucz0iaHR0cDovL3d3dy53My5vcmcvMjAwMC9zdmciIHdpZHRoPSIxMyIgaGVpZ2h0PSIxMiI+PHBhdGggZmlsbD0iI0ZGRiIgZD0iTTYuNSA5LjQzOWwtMy42NzQgMi4yMy45NC00LjI2LTMuMjEtMi44ODMgNC4yNTQtLjQwNEw2LjUuMTEybDEuNjkgNC4wMSA0LjI1NC40MDQtMy4yMSAyLjg4Mi45NCA0LjI2eiIvPjwvc3ZnPg==\"/></div>, <div class=\"XQDdHH\">4.1<img class=\"Rza2QY\" src=\"data:image/svg+xml;base64,PHN2ZyB4bWxucz0iaHR0cDovL3d3dy53My5vcmcvMjAwMC9zdmciIHdpZHRoPSIxMyIgaGVpZ2h0PSIxMiI+PHBhdGggZmlsbD0iI0ZGRiIgZD0iTTYuNSA5LjQzOWwtMy42NzQgMi4yMy45NC00LjI2LTMuMjEtMi44ODMgNC4yNTQtLjQwNEw2LjUuMTEybDEuNjkgNC4wMSA0LjI1NC40MDQtMy4yMSAyLjg4Mi45NCA0LjI2eiIvPjwvc3ZnPg==\"/></div>, <div class=\"XQDdHH\">4.4<img class=\"Rza2QY\" src=\"data:image/svg+xml;base64,PHN2ZyB4bWxucz0iaHR0cDovL3d3dy53My5vcmcvMjAwMC9zdmciIHdpZHRoPSIxMyIgaGVpZ2h0PSIxMiI+PHBhdGggZmlsbD0iI0ZGRiIgZD0iTTYuNSA5LjQzOWwtMy42NzQgMi4yMy45NC00LjI2LTMuMjEtMi44ODMgNC4yNTQtLjQwNEw2LjUuMTEybDEuNjkgNC4wMSA0LjI1NC40MDQtMy4yMSAyLjg4Mi45NCA0LjI2eiIvPjwvc3ZnPg==\"/></div>, <div class=\"XQDdHH\">4.4<img class=\"Rza2QY\" src=\"data:image/svg+xml;base64,PHN2ZyB4bWxucz0iaHR0cDovL3d3dy53My5vcmcvMjAwMC9zdmciIHdpZHRoPSIxMyIgaGVpZ2h0PSIxMiI+PHBhdGggZmlsbD0iI0ZGRiIgZD0iTTYuNSA5LjQzOWwtMy42NzQgMi4yMy45NC00LjI2LTMuMjEtMi44ODMgNC4yNTQtLjQwNEw2LjUuMTEybDEuNjkgNC4wMSA0LjI1NC40MDQtMy4yMSAyLjg4Mi45NCA0LjI2eiIvPjwvc3ZnPg==\"/></div>, <div class=\"XQDdHH\">4.3<img class=\"Rza2QY\" src=\"data:image/svg+xml;base64,PHN2ZyB4bWxucz0iaHR0cDovL3d3dy53My5vcmcvMjAwMC9zdmciIHdpZHRoPSIxMyIgaGVpZ2h0PSIxMiI+PHBhdGggZmlsbD0iI0ZGRiIgZD0iTTYuNSA5LjQzOWwtMy42NzQgMi4yMy45NC00LjI2LTMuMjEtMi44ODMgNC4yNTQtLjQwNEw2LjUuMTEybDEuNjkgNC4wMSA0LjI1NC40MDQtMy4yMSAyLjg4Mi45NCA0LjI2eiIvPjwvc3ZnPg==\"/></div>, <div class=\"XQDdHH Ga3i8K\">4<img class=\"Rza2QY\" src=\"data:image/svg+xml;base64,PHN2ZyB4bWxucz0iaHR0cDovL3d3dy53My5vcmcvMjAwMC9zdmciIHdpZHRoPSIxMyIgaGVpZ2h0PSIxMiI+PHBhdGggZmlsbD0iI0ZGRiIgZD0iTTYuNSA5LjQzOWwtMy42NzQgMi4yMy45NC00LjI2LTMuMjEtMi44ODMgNC4yNTQtLjQwNEw2LjUuMTEybDEuNjkgNC4wMSA0LjI1NC40MDQtMy4yMSAyLjg4Mi45NCA0LjI2eiIvPjwvc3ZnPg==\"/></div>, <div class=\"XQDdHH Czs3gR Ga3i8K\">2<img class=\"Rza2QY\" src=\"data:image/svg+xml;base64,PHN2ZyB4bWxucz0iaHR0cDovL3d3dy53My5vcmcvMjAwMC9zdmciIHdpZHRoPSIxMyIgaGVpZ2h0PSIxMiI+PHBhdGggZmlsbD0iI0ZGRiIgZD0iTTYuNSA5LjQzOWwtMy42NzQgMi4yMy45NC00LjI2LTMuMjEtMi44ODMgNC4yNTQtLjQwNEw2LjUuMTEybDEuNjkgNC4wMSA0LjI1NC40MDQtMy4yMSAyLjg4Mi45NCA0LjI2eiIvPjwvc3ZnPg==\"/></div>, <div class=\"XQDdHH\">4.1<img class=\"Rza2QY\" src=\"data:image/svg+xml;base64,PHN2ZyB4bWxucz0iaHR0cDovL3d3dy53My5vcmcvMjAwMC9zdmciIHdpZHRoPSIxMyIgaGVpZ2h0PSIxMiI+PHBhdGggZmlsbD0iI0ZGRiIgZD0iTTYuNSA5LjQzOWwtMy42NzQgMi4yMy45NC00LjI2LTMuMjEtMi44ODMgNC4yNTQtLjQwNEw2LjUuMTEybDEuNjkgNC4wMSA0LjI1NC40MDQtMy4yMSAyLjg4Mi45NCA0LjI2eiIvPjwvc3ZnPg==\"/></div>, <div class=\"XQDdHH Ga3i8K\">4<img class=\"Rza2QY\" src=\"data:image/svg+xml;base64,PHN2ZyB4bWxucz0iaHR0cDovL3d3dy53My5vcmcvMjAwMC9zdmciIHdpZHRoPSIxMyIgaGVpZ2h0PSIxMiI+PHBhdGggZmlsbD0iI0ZGRiIgZD0iTTYuNSA5LjQzOWwtMy42NzQgMi4yMy45NC00LjI2LTMuMjEtMi44ODMgNC4yNTQtLjQwNEw2LjUuMTEybDEuNjkgNC4wMSA0LjI1NC40MDQtMy4yMSAyLjg4Mi45NCA0LjI2eiIvPjwvc3ZnPg==\"/></div>, <div class=\"XQDdHH Ga3i8K\">5<img class=\"Rza2QY\" src=\"data:image/svg+xml;base64,PHN2ZyB4bWxucz0iaHR0cDovL3d3dy53My5vcmcvMjAwMC9zdmciIHdpZHRoPSIxMyIgaGVpZ2h0PSIxMiI+PHBhdGggZmlsbD0iI0ZGRiIgZD0iTTYuNSA5LjQzOWwtMy42NzQgMi4yMy45NC00LjI2LTMuMjEtMi44ODMgNC4yNTQtLjQwNEw2LjUuMTEybDEuNjkgNC4wMSA0LjI1NC40MDQtMy4yMSAyLjg4Mi45NCA0LjI2eiIvPjwvc3ZnPg==\"/></div>, <div class=\"XQDdHH\">4.4<img class=\"Rza2QY\" src=\"data:image/svg+xml;base64,PHN2ZyB4bWxucz0iaHR0cDovL3d3dy53My5vcmcvMjAwMC9zdmciIHdpZHRoPSIxMyIgaGVpZ2h0PSIxMiI+PHBhdGggZmlsbD0iI0ZGRiIgZD0iTTYuNSA5LjQzOWwtMy42NzQgMi4yMy45NC00LjI2LTMuMjEtMi44ODMgNC4yNTQtLjQwNEw2LjUuMTEybDEuNjkgNC4wMSA0LjI1NC40MDQtMy4yMSAyLjg4Mi45NCA0LjI2eiIvPjwvc3ZnPg==\"/></div>, <div class=\"XQDdHH Ga3i8K\">5<img class=\"Rza2QY\" src=\"data:image/svg+xml;base64,PHN2ZyB4bWxucz0iaHR0cDovL3d3dy53My5vcmcvMjAwMC9zdmciIHdpZHRoPSIxMyIgaGVpZ2h0PSIxMiI+PHBhdGggZmlsbD0iI0ZGRiIgZD0iTTYuNSA5LjQzOWwtMy42NzQgMi4yMy45NC00LjI2LTMuMjEtMi44ODMgNC4yNTQtLjQwNEw2LjUuMTEybDEuNjkgNC4wMSA0LjI1NC40MDQtMy4yMSAyLjg4Mi45NCA0LjI2eiIvPjwvc3ZnPg==\"/></div>, <div class=\"XQDdHH Ga3i8K\">5<img class=\"Rza2QY\" src=\"data:image/svg+xml;base64,PHN2ZyB4bWxucz0iaHR0cDovL3d3dy53My5vcmcvMjAwMC9zdmciIHdpZHRoPSIxMyIgaGVpZ2h0PSIxMiI+PHBhdGggZmlsbD0iI0ZGRiIgZD0iTTYuNSA5LjQzOWwtMy42NzQgMi4yMy45NC00LjI2LTMuMjEtMi44ODMgNC4yNTQtLjQwNEw2LjUuMTEybDEuNjkgNC4wMSA0LjI1NC40MDQtMy4yMSAyLjg4Mi45NCA0LjI2eiIvPjwvc3ZnPg==\"/></div>, <div class=\"XQDdHH\">4.2<img class=\"Rza2QY\" src=\"data:image/svg+xml;base64,PHN2ZyB4bWxucz0iaHR0cDovL3d3dy53My5vcmcvMjAwMC9zdmciIHdpZHRoPSIxMyIgaGVpZ2h0PSIxMiI+PHBhdGggZmlsbD0iI0ZGRiIgZD0iTTYuNSA5LjQzOWwtMy42NzQgMi4yMy45NC00LjI2LTMuMjEtMi44ODMgNC4yNTQtLjQwNEw2LjUuMTEybDEuNjkgNC4wMSA0LjI1NC40MDQtMy4yMSAyLjg4Mi45NCA0LjI2eiIvPjwvc3ZnPg==\"/></div>, <div class=\"XQDdHH Ga3i8K\">5<img class=\"Rza2QY\" src=\"data:image/svg+xml;base64,PHN2ZyB4bWxucz0iaHR0cDovL3d3dy53My5vcmcvMjAwMC9zdmciIHdpZHRoPSIxMyIgaGVpZ2h0PSIxMiI+PHBhdGggZmlsbD0iI0ZGRiIgZD0iTTYuNSA5LjQzOWwtMy42NzQgMi4yMy45NC00LjI2LTMuMjEtMi44ODMgNC4yNTQtLjQwNEw2LjUuMTEybDEuNjkgNC4wMSA0LjI1NC40MDQtMy4yMSAyLjg4Mi45NCA0LjI2eiIvPjwvc3ZnPg==\"/></div>, <div class=\"XQDdHH Ga3i8K\">5<img class=\"Rza2QY\" src=\"data:image/svg+xml;base64,PHN2ZyB4bWxucz0iaHR0cDovL3d3dy53My5vcmcvMjAwMC9zdmciIHdpZHRoPSIxMyIgaGVpZ2h0PSIxMiI+PHBhdGggZmlsbD0iI0ZGRiIgZD0iTTYuNSA5LjQzOWwtMy42NzQgMi4yMy45NC00LjI2LTMuMjEtMi44ODMgNC4yNTQtLjQwNEw2LjUuMTEybDEuNjkgNC4wMSA0LjI1NC40MDQtMy4yMSAyLjg4Mi45NCA0LjI2eiIvPjwvc3ZnPg==\"/></div>, <div class=\"XQDdHH\">4.3<img class=\"Rza2QY\" src=\"data:image/svg+xml;base64,PHN2ZyB4bWxucz0iaHR0cDovL3d3dy53My5vcmcvMjAwMC9zdmciIHdpZHRoPSIxMyIgaGVpZ2h0PSIxMiI+PHBhdGggZmlsbD0iI0ZGRiIgZD0iTTYuNSA5LjQzOWwtMy42NzQgMi4yMy45NC00LjI2LTMuMjEtMi44ODMgNC4yNTQtLjQwNEw2LjUuMTEybDEuNjkgNC4wMSA0LjI1NC40MDQtMy4yMSAyLjg4Mi45NCA0LjI2eiIvPjwvc3ZnPg==\"/></div>, <div class=\"XQDdHH Ga3i8K\">5<img class=\"Rza2QY\" src=\"data:image/svg+xml;base64,PHN2ZyB4bWxucz0iaHR0cDovL3d3dy53My5vcmcvMjAwMC9zdmciIHdpZHRoPSIxMyIgaGVpZ2h0PSIxMiI+PHBhdGggZmlsbD0iI0ZGRiIgZD0iTTYuNSA5LjQzOWwtMy42NzQgMi4yMy45NC00LjI2LTMuMjEtMi44ODMgNC4yNTQtLjQwNEw2LjUuMTEybDEuNjkgNC4wMSA0LjI1NC40MDQtMy4yMSAyLjg4Mi45NCA0LjI2eiIvPjwvc3ZnPg==\"/></div>, <div class=\"XQDdHH Ga3i8K\">5<img class=\"Rza2QY\" src=\"data:image/svg+xml;base64,PHN2ZyB4bWxucz0iaHR0cDovL3d3dy53My5vcmcvMjAwMC9zdmciIHdpZHRoPSIxMyIgaGVpZ2h0PSIxMiI+PHBhdGggZmlsbD0iI0ZGRiIgZD0iTTYuNSA5LjQzOWwtMy42NzQgMi4yMy45NC00LjI2LTMuMjEtMi44ODMgNC4yNTQtLjQwNEw2LjUuMTEybDEuNjkgNC4wMSA0LjI1NC40MDQtMy4yMSAyLjg4Mi45NCA0LjI2eiIvPjwvc3ZnPg==\"/></div>]\n"
     ]
    }
   ],
   "source": [
    "rating=s.find_all('div', class_='XQDdHH')\n",
    "print(rating)"
   ]
  },
  {
   "cell_type": "code",
   "execution_count": 133,
   "id": "e1a5e075-933d-4311-b0eb-9598f491802b",
   "metadata": {},
   "outputs": [
    {
     "name": "stdout",
     "output_type": "stream",
     "text": [
      "['4.4', '4.2', '4.2', '4.2', '4.2', '4.2', '4.4', '4.6', '4.3', '4.1', '4.3', '4.4', '4.4', '4.3', '4.3', '4.4', '4.1', '4.3', '4.3', '4.3', '4.2', '4.1', '4.4', '4.4', '4.3', '4', '2', '4.1', '4', '5', '4.4', '5', '5', '4.2', '5', '5', '4.3', '5', '5']\n"
     ]
    }
   ],
   "source": [
    "Ratings=[]\n",
    "for i in rating:\n",
    "    rating=i.text\n",
    "    Ratings.append(rating)\n",
    "print(Ratings)"
   ]
  },
  {
   "cell_type": "code",
   "execution_count": 135,
   "id": "f13980b8-396f-4a85-afc5-3962c3bb5528",
   "metadata": {},
   "outputs": [],
   "source": [
    "url_2=(\"https://www.flipkart.com/washing-machines/pr?sid=j9e%2Cabm%2C8qx&ctx=eyJjYXJkQ29udGV4dCI6eyJhdHRyaWJ1dGVzIjp7InRpdGxlIjp7Im11bHRpVmFsdWVkQXR0cmlidXRlIjp7ImtleSI6InRpdGxlIiwiaW5mZXJlbmNlVHlwZSI6IlRJVExFIiwidmFsdWVzIjpbIldhc2hpbmcgTWFjaGluZXMiXSwidmFsdWVUeXBlIjoiTVVMVElfVkFMVUVEIn19fX19&wid=11.productCard.PMU_V2_5\")"
   ]
  },
  {
   "cell_type": "code",
   "execution_count": 137,
   "id": "dde270ea-14a8-4c33-98cc-51a733173424",
   "metadata": {},
   "outputs": [
    {
     "name": "stdout",
     "output_type": "stream",
     "text": [
      "<Response [200]>\n"
     ]
    }
   ],
   "source": [
    "r2=requests.get(url_2)\n",
    "print(r2)"
   ]
  },
  {
   "cell_type": "code",
   "execution_count": 138,
   "id": "3b367f75-a623-44fb-b0f8-b8870a42f2ee",
   "metadata": {},
   "outputs": [],
   "source": [
    "s2=BeautifulSoup(r2.text, 'html')"
   ]
  },
  {
   "cell_type": "code",
   "execution_count": 139,
   "id": "c39d08e1-a156-4014-91ee-e649dedff445",
   "metadata": {},
   "outputs": [
    {
     "name": "stdout",
     "output_type": "stream",
     "text": [
      "[<div class=\"KzDlHZ\">Electrolux 9 kg 5 Star EcoInverter, 40C Vapour Wash,UltimateCare 300 Fully Automatic Front Load Washin...</div>, <div class=\"KzDlHZ\">SAMSUNG 7 kg 5 star, Ecobubble, Digital Inverter, Fully Automatic Top Load Washing Machine Grey</div>, <div class=\"KzDlHZ\">IFB 8 kg 5 Star with Steam Refresh program, 9 Swirl Wash, Eco Inverter, Touch Panel with AI Fully Auto...</div>, <div class=\"KzDlHZ\">Haier 6.5 kg Balance Clean Pulsator, Custom Wash Cycles with 15 Mins Quick Wash, Magic Filter Fully Au...</div>, <div class=\"KzDlHZ\">MOTOROLA 10 kg 5 star rating Midnight Series Semi Automatic Top Load Washing Machine Black</div>, <div class=\"KzDlHZ\">SAMSUNG 7 kg Diamond Drum Fully Automatic Top Load Washing Machine Silver</div>, <div class=\"KzDlHZ\">realme TechLife 7 kg 5 Star rating Semi Automatic Top Load Washing Machine White, Black</div>, <div class=\"KzDlHZ\">Godrej 10 kg Fully Automatic Top Load Washing Machine with In-built Heater Grey</div>, <div class=\"KzDlHZ\">SAMSUNG 9 kg 5 Star, Hygiene Steam Fully Automatic Front Load Washing Machine with In-built Heater Bla...</div>, <div class=\"KzDlHZ\">IFB 7 kg 5 Star with Steam Refresh program, 9 Swirl Wash, Eco Inverter, Powered by AI with Wifi Fully ...</div>, <div class=\"KzDlHZ\">SAMSUNG 7.5 Kg Semi Automatic Top Load Washing Machine Grey, Red</div>, <div class=\"KzDlHZ\">IFB 6.5 kg 5 Star with Deep Clean Technology, ActivMix, Powered by AI, with Aqua Energie, Soft Close D...</div>, <div class=\"KzDlHZ\">Whirlpool 7 kg 5 Star with Ace Wash Station, 1400 RPM Speed and Rust Proof Semi Automatic Top Load Was...</div>, <div class=\"KzDlHZ\">Godrej 7 kg 5 Star, Zero Pressure Technology Fills Tub 60% Faster, Stainless Steel Gravity Drum Fully ...</div>, <div class=\"KzDlHZ\">Haier 7 kg Balance Clean Pulsator, Custom Wash Cycles with 15 Mins Quick Wash, Magic Filter Fully Auto...</div>, <div class=\"KzDlHZ\">IFB 9 kg 5 Star with Steam Refresh program, 9 Swirl Wash, Eco Inverter, with AI Fully Automatic Front ...</div>, <div class=\"KzDlHZ\">TCL 8.5 kg Digital Inverter Motor 1400 RPM Fully Automatic Front Load Washing Machine with In-built He...</div>, <div class=\"KzDlHZ\">TCL 9.5 kg 8 Wash Program Magic Filter, Powerful Dispenser with Full Glass Damping Lid Fully Automatic...</div>, <div class=\"KzDlHZ\">LG 7 kg 5 Star with Wind Jet Dry, Collar Scrubber and Rust Free Plastic Base Semi Automatic Top Load W...</div>, <div class=\"KzDlHZ\">IFB 7 kg 5 Star with Deep Clean Technology, ActivMix, Powered by AI, with Aqua Energie, Soft Close Doo...</div>, <div class=\"KzDlHZ\">Panasonic 6.5 kg Fully Automatic Top Load Washing Machine Black, Grey</div>, <div class=\"KzDlHZ\">IFB 7 kg 5 Star with Deep Clean Technology, ActivMix, Powered by AI, with Aqua Energie, Soft Close Doo...</div>, <div class=\"KzDlHZ\">Whirlpool 7 kg Magic Clean 5 Star Fully Automatic Top Load Washing Machine Grey</div>, <div class=\"KzDlHZ\">realme TechLife 7.5 kg 5 Star Rating Fabric Safe Wash Fully Automatic Top Load Washing Machine Grey</div>]\n"
     ]
    }
   ],
   "source": [
    "wname=s2.find_all('div', class_='KzDlHZ')\n",
    "print(wname)"
   ]
  },
  {
   "cell_type": "code",
   "execution_count": 140,
   "id": "7d792f9d-462e-40e4-963c-e47acf182a13",
   "metadata": {},
   "outputs": [
    {
     "name": "stdout",
     "output_type": "stream",
     "text": [
      "['LG UR7500 108 cm (43 inch) Ultra HD (4K) LED Smart WebOS TV with Alpha5 AI Processor 4K Gen6, AI Pictu...', 'TCL C69B 139 cm (55 inch) QLED Ultra HD (4K) Smart Google TV with Dolby Atmos 35W, ONKYO 2.1ch with Su...', 'iFFALCON by TCL U64 139 cm (55 inch) Ultra HD (4K) LED Smart Google TV with 24W Dolby Audio, HDR10', 'REDMI MI XIAOMI 138 cm (55 inch) Ultra HD (4K) LED Smart FireTv OS 7 TV 2024 Edition with 12000+ Apps|...', 'REDMI MI XIAOMI 108 cm (43 inch) Ultra HD (4K) LED Smart FireTv OS 7 TV 2024 Edition with 12000+ Apps|...', 'iFFALCON by TCL U64 108 cm (43 inch) Ultra HD (4K) LED Smart Google TV with 24W Dolby Audio, HDR10', 'Thomson Phoenix 108 cm (43 inch) QLED Ultra HD (4K) Smart Google TV Dolby Vision & Atmos', 'SONY Bravia 2 108 cm (43 inch) Ultra HD (4K) LED Smart Google TV 2024 Edition', 'Mi by Xiaomi X Series 125 cm (50 inch) Ultra HD (4K) LED Smart Google TV with 4K Dolby Vision | HDR 10...', 'TCL V6B 108 cm (43 inch) Ultra HD (4K) LED Smart Google TV 2024 Edition with 24W Dolby Audio and Metal...', 'SAMSUNG New D Series Brighter Crystal 4K Vision Pro (2024 Edition) 108 cm (43 inch) Ultra HD (4K) LED ...', 'Vu 139 cm (55 inch) Ultra HD (4K) LED Smart Google TV with VuOn 1.5 Processor I Perfect Phone Partner ...', 'Vu 126 cm (50 inch) Ultra HD (4K) LED Smart Google TV with VuOn 1.5 Processor I Perfect Phone Partner ...', 'Mi by Xiaomi X Series 108 cm (43 inch) Ultra HD (4K) LED Smart Google TV 2024 Edition with 4K Dolby Vi...', 'realme TechLife CineSonic Q 109 cm (43 inch) QLED Ultra HD (4K) Smart Google TV', 'Vu GloLED 108 cm (43 inch) Ultra HD (4K) LED Smart Google TV with DJ Subwoofer 84W', 'TCL V6B 126 cm (50 inch) Ultra HD (4K) LED Smart Google TV 2024 Edition with 24W Dolby Audio and Metal...', 'realme TechLife CineSonic 109 cm (43 inch) Ultra HD (4K) LED Smart Google TV 2024 Edition', 'Mi by Xiaomi X Series 125 cm (50 inch) Ultra HD (4K) LED Smart Google TV 2024 Edition with 4K Dolby Vi...', 'MOTOROLA EnvisionX 165 cm (65 inch) QLED Ultra HD (4K) Smart Google TV with Dolby Vision and Dolby Atm...', 'Acer I PRO Series 138.7 cm (55 inch) Ultra HD (4K) LED Smart Google TV 2024 Edition with Android 14 (B...', 'TCL P71B Pro 139 cm (55 inch) QLED Ultra HD (4K) Smart Google TV Hands Free Voice Control |Dolby Visio...', 'Vu GloLED 139 cm (55 inch) Ultra HD (4K) LED Smart Google TV with DJ Subwoofer 104W', 'LG UR7500 126 cm (50 inch) Ultra HD (4K) LED Smart WebOS TV with Alpha5 AI Processor 4K Gen6, AI Pictu...', 'Electrolux 9 kg 5 Star EcoInverter, 40C Vapour Wash,UltimateCare 300 Fully Automatic Front Load Washin...', 'SAMSUNG 7 kg 5 star, Ecobubble, Digital Inverter, Fully Automatic Top Load Washing Machine Grey', 'IFB 8 kg 5 Star with Steam Refresh program, 9 Swirl Wash, Eco Inverter, Touch Panel with AI Fully Auto...', 'Haier 6.5 kg Balance Clean Pulsator, Custom Wash Cycles with 15 Mins Quick Wash, Magic Filter Fully Au...', 'MOTOROLA 10 kg 5 star rating Midnight Series Semi Automatic Top Load Washing Machine Black', 'SAMSUNG 7 kg Diamond Drum Fully Automatic Top Load Washing Machine Silver', 'realme TechLife 7 kg 5 Star rating Semi Automatic Top Load Washing Machine White, Black', 'Godrej 10 kg Fully Automatic Top Load Washing Machine with In-built Heater Grey', 'SAMSUNG 9 kg 5 Star, Hygiene Steam Fully Automatic Front Load Washing Machine with In-built Heater Bla...', 'IFB 7 kg 5 Star with Steam Refresh program, 9 Swirl Wash, Eco Inverter, Powered by AI with Wifi Fully ...', 'SAMSUNG 7.5 Kg Semi Automatic Top Load Washing Machine Grey, Red', 'IFB 6.5 kg 5 Star with Deep Clean Technology, ActivMix, Powered by AI, with Aqua Energie, Soft Close D...', 'Whirlpool 7 kg 5 Star with Ace Wash Station, 1400 RPM Speed and Rust Proof Semi Automatic Top Load Was...', 'Godrej 7 kg 5 Star, Zero Pressure Technology Fills Tub 60% Faster, Stainless Steel Gravity Drum Fully ...', 'Haier 7 kg Balance Clean Pulsator, Custom Wash Cycles with 15 Mins Quick Wash, Magic Filter Fully Auto...', 'IFB 9 kg 5 Star with Steam Refresh program, 9 Swirl Wash, Eco Inverter, with AI Fully Automatic Front ...', 'TCL 8.5 kg Digital Inverter Motor 1400 RPM Fully Automatic Front Load Washing Machine with In-built He...', 'TCL 9.5 kg 8 Wash Program Magic Filter, Powerful Dispenser with Full Glass Damping Lid Fully Automatic...', 'LG 7 kg 5 Star with Wind Jet Dry, Collar Scrubber and Rust Free Plastic Base Semi Automatic Top Load W...', 'IFB 7 kg 5 Star with Deep Clean Technology, ActivMix, Powered by AI, with Aqua Energie, Soft Close Doo...', 'Panasonic 6.5 kg Fully Automatic Top Load Washing Machine Black, Grey', 'IFB 7 kg 5 Star with Deep Clean Technology, ActivMix, Powered by AI, with Aqua Energie, Soft Close Doo...', 'Whirlpool 7 kg Magic Clean 5 Star Fully Automatic Top Load Washing Machine Grey', 'realme TechLife 7.5 kg 5 Star Rating Fabric Safe Wash Fully Automatic Top Load Washing Machine Grey']\n"
     ]
    }
   ],
   "source": [
    "for i in wname:\n",
    "    wname=i.text\n",
    "    Product_Names.append(wname)\n",
    "print(Product_Names)"
   ]
  },
  {
   "cell_type": "code",
   "execution_count": 141,
   "id": "4bfc8a0a-79c5-49f1-bd76-d36834c38f76",
   "metadata": {},
   "outputs": [
    {
     "name": "stdout",
     "output_type": "stream",
     "text": [
      "[<div class=\"Nx9bqj _4b5DiR\">₹39,990</div>, <div class=\"Nx9bqj _4b5DiR\">₹17,990</div>, <div class=\"Nx9bqj _4b5DiR\">₹33,490</div>, <div class=\"Nx9bqj _4b5DiR\">₹12,790</div>, <div class=\"Nx9bqj _4b5DiR\">₹10,690</div>, <div class=\"Nx9bqj _4b5DiR\">₹15,890</div>, <div class=\"Nx9bqj _4b5DiR\">₹7,490</div>, <div class=\"Nx9bqj _4b5DiR\">₹40,000</div>, <div class=\"Nx9bqj _4b5DiR\">₹36,990</div>, <div class=\"Nx9bqj _4b5DiR\">₹28,990</div>, <div class=\"Nx9bqj _4b5DiR\">₹11,690</div>, <div class=\"Nx9bqj _4b5DiR\">₹16,990</div>, <div class=\"Nx9bqj _4b5DiR\">₹9,990</div>, <div class=\"Nx9bqj _4b5DiR\">₹13,990</div>, <div class=\"Nx9bqj _4b5DiR\">₹14,190</div>, <div class=\"Nx9bqj _4b5DiR\">₹37,990</div>, <div class=\"Nx9bqj _4b5DiR\">₹27,890</div>, <div class=\"Nx9bqj _4b5DiR\">₹35,990</div>, <div class=\"Nx9bqj _4b5DiR\">₹11,490</div>, <div class=\"Nx9bqj _4b5DiR\">₹17,490</div>, <div class=\"Nx9bqj _4b5DiR\">₹14,490</div>, <div class=\"Nx9bqj _4b5DiR\">₹17,990</div>, <div class=\"Nx9bqj _4b5DiR\">₹15,000</div>, <div class=\"Nx9bqj _4b5DiR\">₹11,990</div>]\n"
     ]
    }
   ],
   "source": [
    "wprice=s2.find_all('div',class_='Nx9bqj _4b5DiR')\n",
    "print(wprice)"
   ]
  },
  {
   "cell_type": "code",
   "execution_count": 143,
   "id": "14954bb4-dbf6-4e1e-bd0b-3bd3699492b4",
   "metadata": {},
   "outputs": [
    {
     "name": "stdout",
     "output_type": "stream",
     "text": [
      "['₹30,990', '₹36,990', '₹26,999', '₹32,999', '₹26,999', '₹18,999', '₹20,499', '₹38,990', '₹29,999', '₹21,990', '₹31,990', '₹33,999', '₹29,999', '₹28,999', '₹23,499', '₹25,990', '₹28,490', '₹20,999', '₹32,990', '₹42,999', '₹29,999', '₹32,990', '₹35,990', '₹38,990', '₹39,990', '₹17,990', '₹33,490', '₹12,790', '₹10,690', '₹15,890', '₹7,490', '₹40,000', '₹36,990', '₹28,990', '₹11,690', '₹16,990', '₹9,990', '₹13,990', '₹14,190', '₹37,990', '₹27,890', '₹35,990', '₹11,490', '₹17,490', '₹14,490', '₹17,990', '₹15,000', '₹11,990']\n"
     ]
    }
   ],
   "source": [
    "for i in wprice:\n",
    "    wprice=i.text\n",
    "    prices.append(wprice)\n",
    "print(prices)"
   ]
  },
  {
   "cell_type": "code",
   "execution_count": 149,
   "id": "cb7e3b1b-fd2c-4a77-9955-112b447c36bf",
   "metadata": {},
   "outputs": [
    {
     "name": "stdout",
     "output_type": "stream",
     "text": [
      "[<div class=\"UkUFwK\"><span>47% off</span></div>, <div class=\"UkUFwK\"><span>20% off</span></div>, <div class=\"UkUFwK\"><span>27% off</span></div>, <div class=\"UkUFwK\"><span>41% off</span></div>, <div class=\"UkUFwK\"><span>49% off</span></div>, <div class=\"UkUFwK\"><span>24% off</span></div>, <div class=\"UkUFwK\"><span>40% off</span></div>, <div class=\"UkUFwK\"><span>32% off</span></div>, <div class=\"UkUFwK\"><span>20% off</span></div>, <div class=\"UkUFwK\"><span>26% off</span></div>, <div class=\"UkUFwK\"><span>24% off</span></div>, <div class=\"UkUFwK\"><span>26% off</span></div>, <div class=\"UkUFwK\"><span>48% off</span></div>, <div class=\"UkUFwK\"><span>45% off</span></div>, <div class=\"UkUFwK\"><span>22% off</span></div>, <div class=\"UkUFwK\"><span>39% off</span></div>, <div class=\"UkUFwK\"><span>19% off</span></div>, <div class=\"UkUFwK\"><span>27% off</span></div>, <div class=\"UkUFwK\"><span>38% off</span></div>, <div class=\"UkUFwK\"><span>25% off</span></div>, <div class=\"UkUFwK\"><span>22% off</span></div>, <div class=\"UkUFwK\"><span>40% off</span></div>, <div class=\"UkUFwK WMQHm1\"><span>26% off</span></div>, <div class=\"UkUFwK WMQHm1\"><span>49% off</span></div>, <div class=\"UkUFwK WMQHm1\"><span>26% off</span></div>, <div class=\"UkUFwK WMQHm1\"><span>22% off</span></div>]\n"
     ]
    }
   ],
   "source": [
    "wdiscount=s2.find_all('div',class_='UkUFwK')\n",
    "print(wdiscount)"
   ]
  },
  {
   "cell_type": "code",
   "execution_count": 151,
   "id": "67c2a432-b93f-4be0-bffb-366f05f272b2",
   "metadata": {},
   "outputs": [
    {
     "name": "stdout",
     "output_type": "stream",
     "text": [
      "['38% off', '69% off', '63% off', '40% off', '37% off', '62% off', '35% off', '34% off', '33% off', '58% off', '31% off', '47% off', '45% off', '32% off', '48% off', '35% off', '56% off', '50% off', '34% off', '69% off', '58% off', '58% off', '44% off', '44% off', '50% off', '58% off', '44% off', '69% off', '31% off', '47% off', '20% off', '27% off', '41% off', '49% off', '24% off', '40% off', '32% off', '20% off', '26% off', '24% off', '26% off', '48% off', '45% off', '22% off', '39% off', '19% off', '27% off', '38% off', '25% off', '22% off', '40% off', '26% off', '49% off', '26% off', '22% off']\n"
     ]
    }
   ],
   "source": [
    "for i in wdiscount:\n",
    "    wdiscount=i.text\n",
    "    Discounts.append(wdiscount)\n",
    "print(Discounts)"
   ]
  },
  {
   "cell_type": "code",
   "execution_count": 153,
   "id": "66a1252c-772c-4bb8-8beb-4466c12023b8",
   "metadata": {},
   "outputs": [
    {
     "name": "stdout",
     "output_type": "stream",
     "text": [
      "[<div class=\"XQDdHH\">4.2<img class=\"Rza2QY\" src=\"data:image/svg+xml;base64,PHN2ZyB4bWxucz0iaHR0cDovL3d3dy53My5vcmcvMjAwMC9zdmciIHdpZHRoPSIxMyIgaGVpZ2h0PSIxMiI+PHBhdGggZmlsbD0iI0ZGRiIgZD0iTTYuNSA5LjQzOWwtMy42NzQgMi4yMy45NC00LjI2LTMuMjEtMi44ODMgNC4yNTQtLjQwNEw2LjUuMTEybDEuNjkgNC4wMSA0LjI1NC40MDQtMy4yMSAyLjg4Mi45NCA0LjI2eiIvPjwvc3ZnPg==\"/></div>, <div class=\"XQDdHH\">4.3<img class=\"Rza2QY\" src=\"data:image/svg+xml;base64,PHN2ZyB4bWxucz0iaHR0cDovL3d3dy53My5vcmcvMjAwMC9zdmciIHdpZHRoPSIxMyIgaGVpZ2h0PSIxMiI+PHBhdGggZmlsbD0iI0ZGRiIgZD0iTTYuNSA5LjQzOWwtMy42NzQgMi4yMy45NC00LjI2LTMuMjEtMi44ODMgNC4yNTQtLjQwNEw2LjUuMTEybDEuNjkgNC4wMSA0LjI1NC40MDQtMy4yMSAyLjg4Mi45NCA0LjI2eiIvPjwvc3ZnPg==\"/></div>, <div class=\"XQDdHH\">4.3<img class=\"Rza2QY\" src=\"data:image/svg+xml;base64,PHN2ZyB4bWxucz0iaHR0cDovL3d3dy53My5vcmcvMjAwMC9zdmciIHdpZHRoPSIxMyIgaGVpZ2h0PSIxMiI+PHBhdGggZmlsbD0iI0ZGRiIgZD0iTTYuNSA5LjQzOWwtMy42NzQgMi4yMy45NC00LjI2LTMuMjEtMi44ODMgNC4yNTQtLjQwNEw2LjUuMTEybDEuNjkgNC4wMSA0LjI1NC40MDQtMy4yMSAyLjg4Mi45NCA0LjI2eiIvPjwvc3ZnPg==\"/></div>, <div class=\"XQDdHH\">4.3<img class=\"Rza2QY\" src=\"data:image/svg+xml;base64,PHN2ZyB4bWxucz0iaHR0cDovL3d3dy53My5vcmcvMjAwMC9zdmciIHdpZHRoPSIxMyIgaGVpZ2h0PSIxMiI+PHBhdGggZmlsbD0iI0ZGRiIgZD0iTTYuNSA5LjQzOWwtMy42NzQgMi4yMy45NC00LjI2LTMuMjEtMi44ODMgNC4yNTQtLjQwNEw2LjUuMTEybDEuNjkgNC4wMSA0LjI1NC40MDQtMy4yMSAyLjg4Mi45NCA0LjI2eiIvPjwvc3ZnPg==\"/></div>, <div class=\"XQDdHH\">4.3<img class=\"Rza2QY\" src=\"data:image/svg+xml;base64,PHN2ZyB4bWxucz0iaHR0cDovL3d3dy53My5vcmcvMjAwMC9zdmciIHdpZHRoPSIxMyIgaGVpZ2h0PSIxMiI+PHBhdGggZmlsbD0iI0ZGRiIgZD0iTTYuNSA5LjQzOWwtMy42NzQgMi4yMy45NC00LjI2LTMuMjEtMi44ODMgNC4yNTQtLjQwNEw2LjUuMTEybDEuNjkgNC4wMSA0LjI1NC40MDQtMy4yMSAyLjg4Mi45NCA0LjI2eiIvPjwvc3ZnPg==\"/></div>, <div class=\"XQDdHH\">4.3<img class=\"Rza2QY\" src=\"data:image/svg+xml;base64,PHN2ZyB4bWxucz0iaHR0cDovL3d3dy53My5vcmcvMjAwMC9zdmciIHdpZHRoPSIxMyIgaGVpZ2h0PSIxMiI+PHBhdGggZmlsbD0iI0ZGRiIgZD0iTTYuNSA5LjQzOWwtMy42NzQgMi4yMy45NC00LjI2LTMuMjEtMi44ODMgNC4yNTQtLjQwNEw2LjUuMTEybDEuNjkgNC4wMSA0LjI1NC40MDQtMy4yMSAyLjg4Mi45NCA0LjI2eiIvPjwvc3ZnPg==\"/></div>, <div class=\"XQDdHH\">4.2<img class=\"Rza2QY\" src=\"data:image/svg+xml;base64,PHN2ZyB4bWxucz0iaHR0cDovL3d3dy53My5vcmcvMjAwMC9zdmciIHdpZHRoPSIxMyIgaGVpZ2h0PSIxMiI+PHBhdGggZmlsbD0iI0ZGRiIgZD0iTTYuNSA5LjQzOWwtMy42NzQgMi4yMy45NC00LjI2LTMuMjEtMi44ODMgNC4yNTQtLjQwNEw2LjUuMTEybDEuNjkgNC4wMSA0LjI1NC40MDQtMy4yMSAyLjg4Mi45NCA0LjI2eiIvPjwvc3ZnPg==\"/></div>, <div class=\"XQDdHH\">4.3<img class=\"Rza2QY\" src=\"data:image/svg+xml;base64,PHN2ZyB4bWxucz0iaHR0cDovL3d3dy53My5vcmcvMjAwMC9zdmciIHdpZHRoPSIxMyIgaGVpZ2h0PSIxMiI+PHBhdGggZmlsbD0iI0ZGRiIgZD0iTTYuNSA5LjQzOWwtMy42NzQgMi4yMy45NC00LjI2LTMuMjEtMi44ODMgNC4yNTQtLjQwNEw2LjUuMTEybDEuNjkgNC4wMSA0LjI1NC40MDQtMy4yMSAyLjg4Mi45NCA0LjI2eiIvPjwvc3ZnPg==\"/></div>, <div class=\"XQDdHH\">4.3<img class=\"Rza2QY\" src=\"data:image/svg+xml;base64,PHN2ZyB4bWxucz0iaHR0cDovL3d3dy53My5vcmcvMjAwMC9zdmciIHdpZHRoPSIxMyIgaGVpZ2h0PSIxMiI+PHBhdGggZmlsbD0iI0ZGRiIgZD0iTTYuNSA5LjQzOWwtMy42NzQgMi4yMy45NC00LjI2LTMuMjEtMi44ODMgNC4yNTQtLjQwNEw2LjUuMTEybDEuNjkgNC4wMSA0LjI1NC40MDQtMy4yMSAyLjg4Mi45NCA0LjI2eiIvPjwvc3ZnPg==\"/></div>, <div class=\"XQDdHH\">4.4<img class=\"Rza2QY\" src=\"data:image/svg+xml;base64,PHN2ZyB4bWxucz0iaHR0cDovL3d3dy53My5vcmcvMjAwMC9zdmciIHdpZHRoPSIxMyIgaGVpZ2h0PSIxMiI+PHBhdGggZmlsbD0iI0ZGRiIgZD0iTTYuNSA5LjQzOWwtMy42NzQgMi4yMy45NC00LjI2LTMuMjEtMi44ODMgNC4yNTQtLjQwNEw2LjUuMTEybDEuNjkgNC4wMSA0LjI1NC40MDQtMy4yMSAyLjg4Mi45NCA0LjI2eiIvPjwvc3ZnPg==\"/></div>, <div class=\"XQDdHH\">4.3<img class=\"Rza2QY\" src=\"data:image/svg+xml;base64,PHN2ZyB4bWxucz0iaHR0cDovL3d3dy53My5vcmcvMjAwMC9zdmciIHdpZHRoPSIxMyIgaGVpZ2h0PSIxMiI+PHBhdGggZmlsbD0iI0ZGRiIgZD0iTTYuNSA5LjQzOWwtMy42NzQgMi4yMy45NC00LjI2LTMuMjEtMi44ODMgNC4yNTQtLjQwNEw2LjUuMTEybDEuNjkgNC4wMSA0LjI1NC40MDQtMy4yMSAyLjg4Mi45NCA0LjI2eiIvPjwvc3ZnPg==\"/></div>, <div class=\"XQDdHH\">4.4<img class=\"Rza2QY\" src=\"data:image/svg+xml;base64,PHN2ZyB4bWxucz0iaHR0cDovL3d3dy53My5vcmcvMjAwMC9zdmciIHdpZHRoPSIxMyIgaGVpZ2h0PSIxMiI+PHBhdGggZmlsbD0iI0ZGRiIgZD0iTTYuNSA5LjQzOWwtMy42NzQgMi4yMy45NC00LjI2LTMuMjEtMi44ODMgNC4yNTQtLjQwNEw2LjUuMTEybDEuNjkgNC4wMSA0LjI1NC40MDQtMy4yMSAyLjg4Mi45NCA0LjI2eiIvPjwvc3ZnPg==\"/></div>, <div class=\"XQDdHH\">4.2<img class=\"Rza2QY\" src=\"data:image/svg+xml;base64,PHN2ZyB4bWxucz0iaHR0cDovL3d3dy53My5vcmcvMjAwMC9zdmciIHdpZHRoPSIxMyIgaGVpZ2h0PSIxMiI+PHBhdGggZmlsbD0iI0ZGRiIgZD0iTTYuNSA5LjQzOWwtMy42NzQgMi4yMy45NC00LjI2LTMuMjEtMi44ODMgNC4yNTQtLjQwNEw2LjUuMTEybDEuNjkgNC4wMSA0LjI1NC40MDQtMy4yMSAyLjg4Mi45NCA0LjI2eiIvPjwvc3ZnPg==\"/></div>, <div class=\"XQDdHH\">4.3<img class=\"Rza2QY\" src=\"data:image/svg+xml;base64,PHN2ZyB4bWxucz0iaHR0cDovL3d3dy53My5vcmcvMjAwMC9zdmciIHdpZHRoPSIxMyIgaGVpZ2h0PSIxMiI+PHBhdGggZmlsbD0iI0ZGRiIgZD0iTTYuNSA5LjQzOWwtMy42NzQgMi4yMy45NC00LjI2LTMuMjEtMi44ODMgNC4yNTQtLjQwNEw2LjUuMTEybDEuNjkgNC4wMSA0LjI1NC40MDQtMy4yMSAyLjg4Mi45NCA0LjI2eiIvPjwvc3ZnPg==\"/></div>, <div class=\"XQDdHH\">4.3<img class=\"Rza2QY\" src=\"data:image/svg+xml;base64,PHN2ZyB4bWxucz0iaHR0cDovL3d3dy53My5vcmcvMjAwMC9zdmciIHdpZHRoPSIxMyIgaGVpZ2h0PSIxMiI+PHBhdGggZmlsbD0iI0ZGRiIgZD0iTTYuNSA5LjQzOWwtMy42NzQgMi4yMy45NC00LjI2LTMuMjEtMi44ODMgNC4yNTQtLjQwNEw2LjUuMTEybDEuNjkgNC4wMSA0LjI1NC40MDQtMy4yMSAyLjg4Mi45NCA0LjI2eiIvPjwvc3ZnPg==\"/></div>, <div class=\"XQDdHH\">3.6<img class=\"Rza2QY\" src=\"data:image/svg+xml;base64,PHN2ZyB4bWxucz0iaHR0cDovL3d3dy53My5vcmcvMjAwMC9zdmciIHdpZHRoPSIxMyIgaGVpZ2h0PSIxMiI+PHBhdGggZmlsbD0iI0ZGRiIgZD0iTTYuNSA5LjQzOWwtMy42NzQgMi4yMy45NC00LjI2LTMuMjEtMi44ODMgNC4yNTQtLjQwNEw2LjUuMTEybDEuNjkgNC4wMSA0LjI1NC40MDQtMy4yMSAyLjg4Mi45NCA0LjI2eiIvPjwvc3ZnPg==\"/></div>, <div class=\"XQDdHH\">3.9<img class=\"Rza2QY\" src=\"data:image/svg+xml;base64,PHN2ZyB4bWxucz0iaHR0cDovL3d3dy53My5vcmcvMjAwMC9zdmciIHdpZHRoPSIxMyIgaGVpZ2h0PSIxMiI+PHBhdGggZmlsbD0iI0ZGRiIgZD0iTTYuNSA5LjQzOWwtMy42NzQgMi4yMy45NC00LjI2LTMuMjEtMi44ODMgNC4yNTQtLjQwNEw2LjUuMTEybDEuNjkgNC4wMSA0LjI1NC40MDQtMy4yMSAyLjg4Mi45NCA0LjI2eiIvPjwvc3ZnPg==\"/></div>, <div class=\"XQDdHH\">4.4<img class=\"Rza2QY\" src=\"data:image/svg+xml;base64,PHN2ZyB4bWxucz0iaHR0cDovL3d3dy53My5vcmcvMjAwMC9zdmciIHdpZHRoPSIxMyIgaGVpZ2h0PSIxMiI+PHBhdGggZmlsbD0iI0ZGRiIgZD0iTTYuNSA5LjQzOWwtMy42NzQgMi4yMy45NC00LjI2LTMuMjEtMi44ODMgNC4yNTQtLjQwNEw2LjUuMTEybDEuNjkgNC4wMSA0LjI1NC40MDQtMy4yMSAyLjg4Mi45NCA0LjI2eiIvPjwvc3ZnPg==\"/></div>, <div class=\"XQDdHH\">4.3<img class=\"Rza2QY\" src=\"data:image/svg+xml;base64,PHN2ZyB4bWxucz0iaHR0cDovL3d3dy53My5vcmcvMjAwMC9zdmciIHdpZHRoPSIxMyIgaGVpZ2h0PSIxMiI+PHBhdGggZmlsbD0iI0ZGRiIgZD0iTTYuNSA5LjQzOWwtMy42NzQgMi4yMy45NC00LjI2LTMuMjEtMi44ODMgNC4yNTQtLjQwNEw2LjUuMTEybDEuNjkgNC4wMSA0LjI1NC40MDQtMy4yMSAyLjg4Mi45NCA0LjI2eiIvPjwvc3ZnPg==\"/></div>, <div class=\"XQDdHH\">4.3<img class=\"Rza2QY\" src=\"data:image/svg+xml;base64,PHN2ZyB4bWxucz0iaHR0cDovL3d3dy53My5vcmcvMjAwMC9zdmciIHdpZHRoPSIxMyIgaGVpZ2h0PSIxMiI+PHBhdGggZmlsbD0iI0ZGRiIgZD0iTTYuNSA5LjQzOWwtMy42NzQgMi4yMy45NC00LjI2LTMuMjEtMi44ODMgNC4yNTQtLjQwNEw2LjUuMTEybDEuNjkgNC4wMSA0LjI1NC40MDQtMy4yMSAyLjg4Mi45NCA0LjI2eiIvPjwvc3ZnPg==\"/></div>, <div class=\"XQDdHH\">4.3<img class=\"Rza2QY\" src=\"data:image/svg+xml;base64,PHN2ZyB4bWxucz0iaHR0cDovL3d3dy53My5vcmcvMjAwMC9zdmciIHdpZHRoPSIxMyIgaGVpZ2h0PSIxMiI+PHBhdGggZmlsbD0iI0ZGRiIgZD0iTTYuNSA5LjQzOWwtMy42NzQgMi4yMy45NC00LjI2LTMuMjEtMi44ODMgNC4yNTQtLjQwNEw2LjUuMTEybDEuNjkgNC4wMSA0LjI1NC40MDQtMy4yMSAyLjg4Mi45NCA0LjI2eiIvPjwvc3ZnPg==\"/></div>, <div class=\"XQDdHH\">4.1<img class=\"Rza2QY\" src=\"data:image/svg+xml;base64,PHN2ZyB4bWxucz0iaHR0cDovL3d3dy53My5vcmcvMjAwMC9zdmciIHdpZHRoPSIxMyIgaGVpZ2h0PSIxMiI+PHBhdGggZmlsbD0iI0ZGRiIgZD0iTTYuNSA5LjQzOWwtMy42NzQgMi4yMy45NC00LjI2LTMuMjEtMi44ODMgNC4yNTQtLjQwNEw2LjUuMTEybDEuNjkgNC4wMSA0LjI1NC40MDQtMy4yMSAyLjg4Mi45NCA0LjI2eiIvPjwvc3ZnPg==\"/></div>, <div class=\"XQDdHH\">4.1<img class=\"Rza2QY\" src=\"data:image/svg+xml;base64,PHN2ZyB4bWxucz0iaHR0cDovL3d3dy53My5vcmcvMjAwMC9zdmciIHdpZHRoPSIxMyIgaGVpZ2h0PSIxMiI+PHBhdGggZmlsbD0iI0ZGRiIgZD0iTTYuNSA5LjQzOWwtMy42NzQgMi4yMy45NC00LjI2LTMuMjEtMi44ODMgNC4yNTQtLjQwNEw2LjUuMTEybDEuNjkgNC4wMSA0LjI1NC40MDQtMy4yMSAyLjg4Mi45NCA0LjI2eiIvPjwvc3ZnPg==\"/></div>, <div class=\"XQDdHH\">4.4<img class=\"Rza2QY\" src=\"data:image/svg+xml;base64,PHN2ZyB4bWxucz0iaHR0cDovL3d3dy53My5vcmcvMjAwMC9zdmciIHdpZHRoPSIxMyIgaGVpZ2h0PSIxMiI+PHBhdGggZmlsbD0iI0ZGRiIgZD0iTTYuNSA5LjQzOWwtMy42NzQgMi4yMy45NC00LjI2LTMuMjEtMi44ODMgNC4yNTQtLjQwNEw2LjUuMTEybDEuNjkgNC4wMSA0LjI1NC40MDQtMy4yMSAyLjg4Mi45NCA0LjI2eiIvPjwvc3ZnPg==\"/></div>, <div class=\"XQDdHH Ga3i8K\">4<img class=\"Rza2QY\" src=\"data:image/svg+xml;base64,PHN2ZyB4bWxucz0iaHR0cDovL3d3dy53My5vcmcvMjAwMC9zdmciIHdpZHRoPSIxMyIgaGVpZ2h0PSIxMiI+PHBhdGggZmlsbD0iI0ZGRiIgZD0iTTYuNSA5LjQzOWwtMy42NzQgMi4yMy45NC00LjI2LTMuMjEtMi44ODMgNC4yNTQtLjQwNEw2LjUuMTEybDEuNjkgNC4wMSA0LjI1NC40MDQtMy4yMSAyLjg4Mi45NCA0LjI2eiIvPjwvc3ZnPg==\"/></div>, <div class=\"XQDdHH Ga3i8K\">4<img class=\"Rza2QY\" src=\"data:image/svg+xml;base64,PHN2ZyB4bWxucz0iaHR0cDovL3d3dy53My5vcmcvMjAwMC9zdmciIHdpZHRoPSIxMyIgaGVpZ2h0PSIxMiI+PHBhdGggZmlsbD0iI0ZGRiIgZD0iTTYuNSA5LjQzOWwtMy42NzQgMi4yMy45NC00LjI2LTMuMjEtMi44ODMgNC4yNTQtLjQwNEw2LjUuMTEybDEuNjkgNC4wMSA0LjI1NC40MDQtMy4yMSAyLjg4Mi45NCA0LjI2eiIvPjwvc3ZnPg==\"/></div>, <div class=\"XQDdHH\">4.3<img class=\"Rza2QY\" src=\"data:image/svg+xml;base64,PHN2ZyB4bWxucz0iaHR0cDovL3d3dy53My5vcmcvMjAwMC9zdmciIHdpZHRoPSIxMyIgaGVpZ2h0PSIxMiI+PHBhdGggZmlsbD0iI0ZGRiIgZD0iTTYuNSA5LjQzOWwtMy42NzQgMi4yMy45NC00LjI2LTMuMjEtMi44ODMgNC4yNTQtLjQwNEw2LjUuMTEybDEuNjkgNC4wMSA0LjI1NC40MDQtMy4yMSAyLjg4Mi45NCA0LjI2eiIvPjwvc3ZnPg==\"/></div>, <div class=\"XQDdHH Ga3i8K\">5<img class=\"Rza2QY\" src=\"data:image/svg+xml;base64,PHN2ZyB4bWxucz0iaHR0cDovL3d3dy53My5vcmcvMjAwMC9zdmciIHdpZHRoPSIxMyIgaGVpZ2h0PSIxMiI+PHBhdGggZmlsbD0iI0ZGRiIgZD0iTTYuNSA5LjQzOWwtMy42NzQgMi4yMy45NC00LjI2LTMuMjEtMi44ODMgNC4yNTQtLjQwNEw2LjUuMTEybDEuNjkgNC4wMSA0LjI1NC40MDQtMy4yMSAyLjg4Mi45NCA0LjI2eiIvPjwvc3ZnPg==\"/></div>, <div class=\"XQDdHH Ga3i8K\">5<img class=\"Rza2QY\" src=\"data:image/svg+xml;base64,PHN2ZyB4bWxucz0iaHR0cDovL3d3dy53My5vcmcvMjAwMC9zdmciIHdpZHRoPSIxMyIgaGVpZ2h0PSIxMiI+PHBhdGggZmlsbD0iI0ZGRiIgZD0iTTYuNSA5LjQzOWwtMy42NzQgMi4yMy45NC00LjI2LTMuMjEtMi44ODMgNC4yNTQtLjQwNEw2LjUuMTEybDEuNjkgNC4wMSA0LjI1NC40MDQtMy4yMSAyLjg4Mi45NCA0LjI2eiIvPjwvc3ZnPg==\"/></div>, <div class=\"XQDdHH\">4.4<img class=\"Rza2QY\" src=\"data:image/svg+xml;base64,PHN2ZyB4bWxucz0iaHR0cDovL3d3dy53My5vcmcvMjAwMC9zdmciIHdpZHRoPSIxMyIgaGVpZ2h0PSIxMiI+PHBhdGggZmlsbD0iI0ZGRiIgZD0iTTYuNSA5LjQzOWwtMy42NzQgMi4yMy45NC00LjI2LTMuMjEtMi44ODMgNC4yNTQtLjQwNEw2LjUuMTEybDEuNjkgNC4wMSA0LjI1NC40MDQtMy4yMSAyLjg4Mi45NCA0LjI2eiIvPjwvc3ZnPg==\"/></div>, <div class=\"XQDdHH Ga3i8K\">5<img class=\"Rza2QY\" src=\"data:image/svg+xml;base64,PHN2ZyB4bWxucz0iaHR0cDovL3d3dy53My5vcmcvMjAwMC9zdmciIHdpZHRoPSIxMyIgaGVpZ2h0PSIxMiI+PHBhdGggZmlsbD0iI0ZGRiIgZD0iTTYuNSA5LjQzOWwtMy42NzQgMi4yMy45NC00LjI2LTMuMjEtMi44ODMgNC4yNTQtLjQwNEw2LjUuMTEybDEuNjkgNC4wMSA0LjI1NC40MDQtMy4yMSAyLjg4Mi45NCA0LjI2eiIvPjwvc3ZnPg==\"/></div>, <div class=\"XQDdHH Ga3i8K\">5<img class=\"Rza2QY\" src=\"data:image/svg+xml;base64,PHN2ZyB4bWxucz0iaHR0cDovL3d3dy53My5vcmcvMjAwMC9zdmciIHdpZHRoPSIxMyIgaGVpZ2h0PSIxMiI+PHBhdGggZmlsbD0iI0ZGRiIgZD0iTTYuNSA5LjQzOWwtMy42NzQgMi4yMy45NC00LjI2LTMuMjEtMi44ODMgNC4yNTQtLjQwNEw2LjUuMTEybDEuNjkgNC4wMSA0LjI1NC40MDQtMy4yMSAyLjg4Mi45NCA0LjI2eiIvPjwvc3ZnPg==\"/></div>, <div class=\"XQDdHH\">4.1<img class=\"Rza2QY\" src=\"data:image/svg+xml;base64,PHN2ZyB4bWxucz0iaHR0cDovL3d3dy53My5vcmcvMjAwMC9zdmciIHdpZHRoPSIxMyIgaGVpZ2h0PSIxMiI+PHBhdGggZmlsbD0iI0ZGRiIgZD0iTTYuNSA5LjQzOWwtMy42NzQgMi4yMy45NC00LjI2LTMuMjEtMi44ODMgNC4yNTQtLjQwNEw2LjUuMTEybDEuNjkgNC4wMSA0LjI1NC40MDQtMy4yMSAyLjg4Mi45NCA0LjI2eiIvPjwvc3ZnPg==\"/></div>, <div class=\"XQDdHH Ga3i8K\">4<img class=\"Rza2QY\" src=\"data:image/svg+xml;base64,PHN2ZyB4bWxucz0iaHR0cDovL3d3dy53My5vcmcvMjAwMC9zdmciIHdpZHRoPSIxMyIgaGVpZ2h0PSIxMiI+PHBhdGggZmlsbD0iI0ZGRiIgZD0iTTYuNSA5LjQzOWwtMy42NzQgMi4yMy45NC00LjI2LTMuMjEtMi44ODMgNC4yNTQtLjQwNEw2LjUuMTEybDEuNjkgNC4wMSA0LjI1NC40MDQtMy4yMSAyLjg4Mi45NCA0LjI2eiIvPjwvc3ZnPg==\"/></div>, <div class=\"XQDdHH Ga3i8K\">3<img class=\"Rza2QY\" src=\"data:image/svg+xml;base64,PHN2ZyB4bWxucz0iaHR0cDovL3d3dy53My5vcmcvMjAwMC9zdmciIHdpZHRoPSIxMyIgaGVpZ2h0PSIxMiI+PHBhdGggZmlsbD0iI0ZGRiIgZD0iTTYuNSA5LjQzOWwtMy42NzQgMi4yMy45NC00LjI2LTMuMjEtMi44ODMgNC4yNTQtLjQwNEw2LjUuMTEybDEuNjkgNC4wMSA0LjI1NC40MDQtMy4yMSAyLjg4Mi45NCA0LjI2eiIvPjwvc3ZnPg==\"/></div>, <div class=\"XQDdHH\">3.9<img class=\"Rza2QY\" src=\"data:image/svg+xml;base64,PHN2ZyB4bWxucz0iaHR0cDovL3d3dy53My5vcmcvMjAwMC9zdmciIHdpZHRoPSIxMyIgaGVpZ2h0PSIxMiI+PHBhdGggZmlsbD0iI0ZGRiIgZD0iTTYuNSA5LjQzOWwtMy42NzQgMi4yMy45NC00LjI2LTMuMjEtMi44ODMgNC4yNTQtLjQwNEw2LjUuMTEybDEuNjkgNC4wMSA0LjI1NC40MDQtMy4yMSAyLjg4Mi45NCA0LjI2eiIvPjwvc3ZnPg==\"/></div>, <div class=\"XQDdHH Ga3i8K\">4<img class=\"Rza2QY\" src=\"data:image/svg+xml;base64,PHN2ZyB4bWxucz0iaHR0cDovL3d3dy53My5vcmcvMjAwMC9zdmciIHdpZHRoPSIxMyIgaGVpZ2h0PSIxMiI+PHBhdGggZmlsbD0iI0ZGRiIgZD0iTTYuNSA5LjQzOWwtMy42NzQgMi4yMy45NC00LjI2LTMuMjEtMi44ODMgNC4yNTQtLjQwNEw2LjUuMTEybDEuNjkgNC4wMSA0LjI1NC40MDQtMy4yMSAyLjg4Mi45NCA0LjI2eiIvPjwvc3ZnPg==\"/></div>, <div class=\"XQDdHH Js30Fc Ga3i8K\">1<img class=\"Rza2QY\" src=\"data:image/svg+xml;base64,PHN2ZyB4bWxucz0iaHR0cDovL3d3dy53My5vcmcvMjAwMC9zdmciIHdpZHRoPSIxMyIgaGVpZ2h0PSIxMiI+PHBhdGggZmlsbD0iI0ZGRiIgZD0iTTYuNSA5LjQzOWwtMy42NzQgMi4yMy45NC00LjI2LTMuMjEtMi44ODMgNC4yNTQtLjQwNEw2LjUuMTEybDEuNjkgNC4wMSA0LjI1NC40MDQtMy4yMSAyLjg4Mi45NCA0LjI2eiIvPjwvc3ZnPg==\"/></div>]\n"
     ]
    }
   ],
   "source": [
    "wrating=s2.find_all('div',class_='XQDdHH')\n",
    "print(wrating)"
   ]
  },
  {
   "cell_type": "code",
   "execution_count": 155,
   "id": "b9aba6a8-558a-4db0-a3b7-e64d3ba4a00f",
   "metadata": {},
   "outputs": [
    {
     "name": "stdout",
     "output_type": "stream",
     "text": [
      "['4.4', '4.2', '4.2', '4.2', '4.2', '4.2', '4.4', '4.6', '4.3', '4.1', '4.3', '4.4', '4.4', '4.3', '4.3', '4.4', '4.1', '4.3', '4.3', '4.3', '4.2', '4.1', '4.4', '4.4', '4.3', '4', '2', '4.1', '4', '5', '4.4', '5', '5', '4.2', '5', '5', '4.3', '5', '5', '4.2', '4.3', '4.3', '4.3', '4.3', '4.3', '4.2', '4.3', '4.3', '4.4', '4.3', '4.4', '4.2', '4.3', '4.3', '3.6', '3.9', '4.4', '4.3', '4.3', '4.3', '4.1', '4.1', '4.4', '4', '4', '4.3', '5', '5', '4.4', '5', '5', '4.1', '4', '3', '3.9', '4', '1']\n"
     ]
    }
   ],
   "source": [
    "for i in wrating:\n",
    "    wrating=i.text\n",
    "    Ratings.append(wrating)\n",
    "print(Ratings)"
   ]
  },
  {
   "cell_type": "code",
   "execution_count": 157,
   "id": "322860e9-3110-402a-8cc0-756809dc165b",
   "metadata": {},
   "outputs": [],
   "source": [
    "url_3=\"https://www.flipkart.com/home-kitchen/home-appliances/refrigerators/double-door~type/pr?sid=j9e%2Cabm%2Chzg&ctx=eyJjYXJkQ29udGV4dCI6eyJhdHRyaWJ1dGVzIjp7InRpdGxlIjp7Im11bHRpVmFsdWVkQXR0cmlidXRlIjp7ImtleSI6InRpdGxlIiwiaW5mZXJlbmNlVHlwZSI6IlRJVExFIiwidmFsdWVzIjpbIkRvdWJsZS1kb29yIFJlZnJpZ2VyYXRvcnMiXSwidmFsdWVUeXBlIjoiTVVMVElfVkFMVUVEIn19fX19&wid=13.productCard.PMU_V2_6\""
   ]
  },
  {
   "cell_type": "code",
   "execution_count": 159,
   "id": "5f75f2fa-6fe9-4dff-b637-37b594aea471",
   "metadata": {},
   "outputs": [
    {
     "name": "stdout",
     "output_type": "stream",
     "text": [
      "<Response [200]>\n"
     ]
    }
   ],
   "source": [
    "r3=requests.get(url_3)\n",
    "print(r3)"
   ]
  },
  {
   "cell_type": "code",
   "execution_count": 160,
   "id": "89caa903-de02-428d-a54c-884b1290f195",
   "metadata": {},
   "outputs": [],
   "source": [
    "s3=BeautifulSoup(r3.text,\"html\")"
   ]
  },
  {
   "cell_type": "code",
   "execution_count": 161,
   "id": "682b7dbf-a3ea-4e6d-bf06-371fed6dbc68",
   "metadata": {},
   "outputs": [],
   "source": [
    "rname=s3.find_all('div',class_='KzDlHZ')\n"
   ]
  },
  {
   "cell_type": "code",
   "execution_count": 162,
   "id": "27027768-4e80-4a4a-bfa5-b292efb4b2ab",
   "metadata": {},
   "outputs": [
    {
     "name": "stdout",
     "output_type": "stream",
     "text": [
      "['LG UR7500 108 cm (43 inch) Ultra HD (4K) LED Smart WebOS TV with Alpha5 AI Processor 4K Gen6, AI Pictu...', 'TCL C69B 139 cm (55 inch) QLED Ultra HD (4K) Smart Google TV with Dolby Atmos 35W, ONKYO 2.1ch with Su...', 'iFFALCON by TCL U64 139 cm (55 inch) Ultra HD (4K) LED Smart Google TV with 24W Dolby Audio, HDR10', 'REDMI MI XIAOMI 138 cm (55 inch) Ultra HD (4K) LED Smart FireTv OS 7 TV 2024 Edition with 12000+ Apps|...', 'REDMI MI XIAOMI 108 cm (43 inch) Ultra HD (4K) LED Smart FireTv OS 7 TV 2024 Edition with 12000+ Apps|...', 'iFFALCON by TCL U64 108 cm (43 inch) Ultra HD (4K) LED Smart Google TV with 24W Dolby Audio, HDR10', 'Thomson Phoenix 108 cm (43 inch) QLED Ultra HD (4K) Smart Google TV Dolby Vision & Atmos', 'SONY Bravia 2 108 cm (43 inch) Ultra HD (4K) LED Smart Google TV 2024 Edition', 'Mi by Xiaomi X Series 125 cm (50 inch) Ultra HD (4K) LED Smart Google TV with 4K Dolby Vision | HDR 10...', 'TCL V6B 108 cm (43 inch) Ultra HD (4K) LED Smart Google TV 2024 Edition with 24W Dolby Audio and Metal...', 'SAMSUNG New D Series Brighter Crystal 4K Vision Pro (2024 Edition) 108 cm (43 inch) Ultra HD (4K) LED ...', 'Vu 139 cm (55 inch) Ultra HD (4K) LED Smart Google TV with VuOn 1.5 Processor I Perfect Phone Partner ...', 'Vu 126 cm (50 inch) Ultra HD (4K) LED Smart Google TV with VuOn 1.5 Processor I Perfect Phone Partner ...', 'Mi by Xiaomi X Series 108 cm (43 inch) Ultra HD (4K) LED Smart Google TV 2024 Edition with 4K Dolby Vi...', 'realme TechLife CineSonic Q 109 cm (43 inch) QLED Ultra HD (4K) Smart Google TV', 'Vu GloLED 108 cm (43 inch) Ultra HD (4K) LED Smart Google TV with DJ Subwoofer 84W', 'TCL V6B 126 cm (50 inch) Ultra HD (4K) LED Smart Google TV 2024 Edition with 24W Dolby Audio and Metal...', 'realme TechLife CineSonic 109 cm (43 inch) Ultra HD (4K) LED Smart Google TV 2024 Edition', 'Mi by Xiaomi X Series 125 cm (50 inch) Ultra HD (4K) LED Smart Google TV 2024 Edition with 4K Dolby Vi...', 'MOTOROLA EnvisionX 165 cm (65 inch) QLED Ultra HD (4K) Smart Google TV with Dolby Vision and Dolby Atm...', 'Acer I PRO Series 138.7 cm (55 inch) Ultra HD (4K) LED Smart Google TV 2024 Edition with Android 14 (B...', 'TCL P71B Pro 139 cm (55 inch) QLED Ultra HD (4K) Smart Google TV Hands Free Voice Control |Dolby Visio...', 'Vu GloLED 139 cm (55 inch) Ultra HD (4K) LED Smart Google TV with DJ Subwoofer 104W', 'LG UR7500 126 cm (50 inch) Ultra HD (4K) LED Smart WebOS TV with Alpha5 AI Processor 4K Gen6, AI Pictu...', 'Electrolux 9 kg 5 Star EcoInverter, 40C Vapour Wash,UltimateCare 300 Fully Automatic Front Load Washin...', 'SAMSUNG 7 kg 5 star, Ecobubble, Digital Inverter, Fully Automatic Top Load Washing Machine Grey', 'IFB 8 kg 5 Star with Steam Refresh program, 9 Swirl Wash, Eco Inverter, Touch Panel with AI Fully Auto...', 'Haier 6.5 kg Balance Clean Pulsator, Custom Wash Cycles with 15 Mins Quick Wash, Magic Filter Fully Au...', 'MOTOROLA 10 kg 5 star rating Midnight Series Semi Automatic Top Load Washing Machine Black', 'SAMSUNG 7 kg Diamond Drum Fully Automatic Top Load Washing Machine Silver', 'realme TechLife 7 kg 5 Star rating Semi Automatic Top Load Washing Machine White, Black', 'Godrej 10 kg Fully Automatic Top Load Washing Machine with In-built Heater Grey', 'SAMSUNG 9 kg 5 Star, Hygiene Steam Fully Automatic Front Load Washing Machine with In-built Heater Bla...', 'IFB 7 kg 5 Star with Steam Refresh program, 9 Swirl Wash, Eco Inverter, Powered by AI with Wifi Fully ...', 'SAMSUNG 7.5 Kg Semi Automatic Top Load Washing Machine Grey, Red', 'IFB 6.5 kg 5 Star with Deep Clean Technology, ActivMix, Powered by AI, with Aqua Energie, Soft Close D...', 'Whirlpool 7 kg 5 Star with Ace Wash Station, 1400 RPM Speed and Rust Proof Semi Automatic Top Load Was...', 'Godrej 7 kg 5 Star, Zero Pressure Technology Fills Tub 60% Faster, Stainless Steel Gravity Drum Fully ...', 'Haier 7 kg Balance Clean Pulsator, Custom Wash Cycles with 15 Mins Quick Wash, Magic Filter Fully Auto...', 'IFB 9 kg 5 Star with Steam Refresh program, 9 Swirl Wash, Eco Inverter, with AI Fully Automatic Front ...', 'TCL 8.5 kg Digital Inverter Motor 1400 RPM Fully Automatic Front Load Washing Machine with In-built He...', 'TCL 9.5 kg 8 Wash Program Magic Filter, Powerful Dispenser with Full Glass Damping Lid Fully Automatic...', 'LG 7 kg 5 Star with Wind Jet Dry, Collar Scrubber and Rust Free Plastic Base Semi Automatic Top Load W...', 'IFB 7 kg 5 Star with Deep Clean Technology, ActivMix, Powered by AI, with Aqua Energie, Soft Close Doo...', 'Panasonic 6.5 kg Fully Automatic Top Load Washing Machine Black, Grey', 'IFB 7 kg 5 Star with Deep Clean Technology, ActivMix, Powered by AI, with Aqua Energie, Soft Close Doo...', 'Whirlpool 7 kg Magic Clean 5 Star Fully Automatic Top Load Washing Machine Grey', 'realme TechLife 7.5 kg 5 Star Rating Fabric Safe Wash Fully Automatic Top Load Washing Machine Grey', 'Godrej 223 L Frost Free Double Door 3 Star Convertible Refrigerator  with Freezer 95%+ Food Surface Di...', 'Godrej 238 L Frost Free Double Door 3 Star Refrigerator  with Advanced Inverter and 95%+ Food Surface ...', 'SAMSUNG 236 L Frost Free Double Door 2 Star Refrigerator  with Digital Inverter', 'SAMSUNG 236 L Frost Free Double Door 3 Star Convertible Refrigerator  with Digital Inverter and Displa...', 'Whirlpool 235 L Frost Free Double Door 2 Star Refrigerator', 'Godrej 223 L Frost Free Double Door 2 Star Refrigerator  with Advanced Inverter and 95%+ Food Surface ...', 'SAMSUNG 236 L Frost Free Double Door 2 Star Convertible Refrigerator', 'Godrej 244 L Frost Free Double Door 3 Star Convertible Refrigerator  with Fully Convertible Refrigerat...', 'Haier 325 L Frost Free Double Door 3 Star Convertible Refrigerator  with 3-Star 14 In 1 Convertible Mo...', 'Voltas Beko by A Tata Product 228 L Frost Free Double Door 3 Star Refrigerator', 'Godrej 272 L Frost Free Double Door 3 Star Convertible Refrigerator  with Freezer 95%+ Food Surface Di...', 'Godrej 308 L Frost Free Double Door 2 Star Refrigerator  with Convertible 4-In-1 Refrigerator With 95%...', 'Voltas Beko by A Tata Product 228 L Frost Free Double Door 2 Star Refrigerator', 'Godrej 436 L Frost Free Double Door 2 Star Refrigerator  with AI Tech, Digital Inverter, And 95%+ Food...', 'IFB 243 L Frost Free Double Door 2 Star Refrigerator  with 7 in 1 Multi Mode with 360 Degree Cooling a...', 'SAMSUNG 236 L Frost Free Double Door 2 Star Convertible Refrigerator  with Digital Inverter and Displa...', 'Godrej 308 L Frost Free Double Door 2 Star Refrigerator  with 95%+ Food Surface Disinfection', 'Godrej 436 L Frost Free Double Door 2 Star Refrigerator  with AI Tech, Digital Inverter, And 95%+ Food...', 'SAMSUNG 236 L Frost Free Double Door 2 Star Convertible Refrigerator  with Digital Inverter and Displa...', 'realme TechLife 233 L Frost Free Double Door 2 Star Refrigerator  with Silver Ion Technology', 'Panasonic 357 L Frost Free Double Door 2 Star Refrigerator', 'Panasonic 401 L Frost Free Double Door 2 Star Refrigerator', 'SAMSUNG 236 L Frost Free Double Door 3 Star Convertible Refrigerator  with Digital Inverter and Displa...', 'Haier 240 L Frost Free Double Door 2 Star Refrigerator']\n"
     ]
    }
   ],
   "source": [
    "for i in rname:\n",
    "    rname=i.text\n",
    "    Product_Names.append(rname)\n",
    "print(Product_Names)"
   ]
  },
  {
   "cell_type": "code",
   "execution_count": 167,
   "id": "ebce5230-667d-4e37-acba-6896d6d12fbe",
   "metadata": {},
   "outputs": [
    {
     "name": "stdout",
     "output_type": "stream",
     "text": [
      "[<div class=\"Nx9bqj _4b5DiR\">₹22,490</div>, <div class=\"Nx9bqj _4b5DiR\">₹23,990</div>, <div class=\"Nx9bqj _4b5DiR\">₹23,190</div>, <div class=\"Nx9bqj _4b5DiR\">₹27,690</div>, <div class=\"Nx9bqj _4b5DiR\">₹21,990</div>, <div class=\"Nx9bqj _4b5DiR\">₹20,490</div>, <div class=\"Nx9bqj _4b5DiR\">₹34,990</div>, <div class=\"Nx9bqj _4b5DiR\">₹24,990</div>, <div class=\"Nx9bqj _4b5DiR\">₹34,990</div>, <div class=\"Nx9bqj _4b5DiR\">₹21,990</div>, <div class=\"Nx9bqj _4b5DiR\">₹27,490</div>, <div class=\"Nx9bqj _4b5DiR\">₹32,490</div>, <div class=\"Nx9bqj _4b5DiR\">₹21,890</div>, <div class=\"Nx9bqj _4b5DiR\">₹43,990</div>, <div class=\"Nx9bqj _4b5DiR\">₹22,990</div>, <div class=\"Nx9bqj _4b5DiR\">₹25,290</div>, <div class=\"Nx9bqj _4b5DiR\">₹29,990</div>, <div class=\"Nx9bqj _4b5DiR\">₹42,990</div>, <div class=\"Nx9bqj _4b5DiR\">₹24,990</div>, <div class=\"Nx9bqj _4b5DiR\">₹18,990</div>, <div class=\"Nx9bqj _4b5DiR\">₹48,990</div>, <div class=\"Nx9bqj _4b5DiR\">₹56,990</div>, <div class=\"Nx9bqj _4b5DiR\">₹26,990</div>, <div class=\"Nx9bqj _4b5DiR\">₹21,790</div>]\n"
     ]
    }
   ],
   "source": [
    "rprice=s3.find_all('div',class_='Nx9bqj _4b5DiR')\n",
    "print(rprice)"
   ]
  },
  {
   "cell_type": "code",
   "execution_count": 169,
   "id": "1575d8c5-499c-4af8-a2d1-05ff584337fe",
   "metadata": {},
   "outputs": [
    {
     "name": "stdout",
     "output_type": "stream",
     "text": [
      "['₹30,990', '₹36,990', '₹26,999', '₹32,999', '₹26,999', '₹18,999', '₹20,499', '₹38,990', '₹29,999', '₹21,990', '₹31,990', '₹33,999', '₹29,999', '₹28,999', '₹23,499', '₹25,990', '₹28,490', '₹20,999', '₹32,990', '₹42,999', '₹29,999', '₹32,990', '₹35,990', '₹38,990', '₹39,990', '₹17,990', '₹33,490', '₹12,790', '₹10,690', '₹15,890', '₹7,490', '₹40,000', '₹36,990', '₹28,990', '₹11,690', '₹16,990', '₹9,990', '₹13,990', '₹14,190', '₹37,990', '₹27,890', '₹35,990', '₹11,490', '₹17,490', '₹14,490', '₹17,990', '₹15,000', '₹11,990', '₹22,490', '₹23,990', '₹23,190', '₹27,690', '₹21,990', '₹20,490', '₹34,990', '₹24,990', '₹34,990', '₹21,990', '₹27,490', '₹32,490', '₹21,890', '₹43,990', '₹22,990', '₹25,290', '₹29,990', '₹42,990', '₹24,990', '₹18,990', '₹48,990', '₹56,990', '₹26,990', '₹21,790']\n"
     ]
    }
   ],
   "source": [
    "for i in rprice:\n",
    "    rprice=i.text\n",
    "    prices.append(rprice)\n",
    "print(prices)"
   ]
  },
  {
   "cell_type": "code",
   "execution_count": 171,
   "id": "2f88b6cb-7055-44f8-b1c2-803b81ff092b",
   "metadata": {},
   "outputs": [],
   "source": [
    "rdiscount=s3.find_all('div',class_='UkUFwK')"
   ]
  },
  {
   "cell_type": "code",
   "execution_count": 173,
   "id": "c96e054b-a501-44ed-ac77-dbde01d9239c",
   "metadata": {},
   "outputs": [
    {
     "name": "stdout",
     "output_type": "stream",
     "text": [
      "['38% off', '69% off', '63% off', '40% off', '37% off', '62% off', '35% off', '34% off', '33% off', '58% off', '31% off', '47% off', '45% off', '32% off', '48% off', '35% off', '56% off', '50% off', '34% off', '69% off', '58% off', '58% off', '44% off', '44% off', '50% off', '58% off', '44% off', '69% off', '31% off', '47% off', '20% off', '27% off', '41% off', '49% off', '24% off', '40% off', '32% off', '20% off', '26% off', '24% off', '26% off', '48% off', '45% off', '22% off', '39% off', '19% off', '27% off', '38% off', '25% off', '22% off', '40% off', '26% off', '49% off', '26% off', '22% off', '36% off', '15% off', '25% off', '34% off', '27% off', '35% off', '16% off', '23% off', '31% off', '44% off', '21% off', '35% off', '40% off', '12% off', '28% off', '29% off', '37% off', '36% off', '30% off', '45% off', '36% off', '35% off', '34% off', '27% off', '28% off', '36% off', '15% off', '37% off', '25% off']\n"
     ]
    }
   ],
   "source": [
    "for i in rdiscount:\n",
    "    rdiscount=i.text\n",
    "    Discounts.append(rdiscount)\n",
    "print(Discounts)"
   ]
  },
  {
   "cell_type": "code",
   "execution_count": 175,
   "id": "a20915a0-8ba2-4d10-95bb-a3c7d29495f1",
   "metadata": {},
   "outputs": [],
   "source": [
    "rrating=s3.find_all('div',class_='XQDdHH')"
   ]
  },
  {
   "cell_type": "code",
   "execution_count": 177,
   "id": "60b87f68-23eb-418b-b7cc-f5ddf1404385",
   "metadata": {},
   "outputs": [
    {
     "name": "stdout",
     "output_type": "stream",
     "text": [
      "['4.4', '4.2', '4.2', '4.2', '4.2', '4.2', '4.4', '4.6', '4.3', '4.1', '4.3', '4.4', '4.4', '4.3', '4.3', '4.4', '4.1', '4.3', '4.3', '4.3', '4.2', '4.1', '4.4', '4.4', '4.3', '4', '2', '4.1', '4', '5', '4.4', '5', '5', '4.2', '5', '5', '4.3', '5', '5', '4.2', '4.3', '4.3', '4.3', '4.3', '4.3', '4.2', '4.3', '4.3', '4.4', '4.3', '4.4', '4.2', '4.3', '4.3', '3.6', '3.9', '4.4', '4.3', '4.3', '4.3', '4.1', '4.1', '4.4', '4', '4', '4.3', '5', '5', '4.4', '5', '5', '4.1', '4', '3', '3.9', '4', '1', '4.2', '4.3', '4.3', '4.3', '4.3', '4.2', '4.1', '4.3', '4.1', '4.2', '4.2', '4.1', '4.1', '4.1', '4.3', '4.2', '4.1', '4.3', '4.4', '4.3', '4.3', '4.3', '4.3', '4.1', '5', '1', '4.3', '4', '1', '4.3', '5', '5', '4.2', '5', '1', '4.3', '4', '5']\n"
     ]
    }
   ],
   "source": [
    "for i in rrating:\n",
    "    rrating=i.text\n",
    "    Ratings.append(rrating)\n",
    "print(Ratings)"
   ]
  },
  {
   "cell_type": "code",
   "execution_count": 179,
   "id": "ee64aa40-4804-4035-95e6-b40ec44e9189",
   "metadata": {},
   "outputs": [
    {
     "name": "stdout",
     "output_type": "stream",
     "text": [
      "72 72 84 115\n"
     ]
    }
   ],
   "source": [
    "# df=pd.DataFrame({\"Product Name\":Product_Names,\"Prices\":prices,\"Discounts\":Discounts,\"Ratings\":Ratings})\n",
    "# print(df)\n",
    "print(len(Product_Names),len(prices),len(Discounts),len(Ratings))"
   ]
  },
  {
   "cell_type": "code",
   "execution_count": 181,
   "id": "5ef821a4-74a1-4fe2-9572-02836ea25689",
   "metadata": {},
   "outputs": [],
   "source": [
    "min_length=min(len(Product_Names),len(prices),len(Discounts),len(Ratings))\n",
    "Product_Names=Product_Names[:min_length]\n",
    "prices=prices[:min_length]\n",
    "Discounts=Discounts[:min_length]\n",
    "Ratings=Ratings[:min_length]"
   ]
  },
  {
   "cell_type": "code",
   "execution_count": 183,
   "id": "f028d3a6-f04b-43e4-a7e0-8eae3fad5a2a",
   "metadata": {},
   "outputs": [
    {
     "name": "stdout",
     "output_type": "stream",
     "text": [
      "72 72 72 72\n"
     ]
    }
   ],
   "source": [
    "print(len(Product_Names),len(prices),len(Discounts),len(Ratings))"
   ]
  },
  {
   "cell_type": "code",
   "execution_count": 187,
   "id": "24625d9e-90d8-42f0-a30e-c2a5ea4bf3ad",
   "metadata": {},
   "outputs": [
    {
     "name": "stdout",
     "output_type": "stream",
     "text": [
      "                                         Product Name   Prices Discounts  \\\n",
      "0   LG UR7500 108 cm (43 inch) Ultra HD (4K) LED S...  ₹30,990   38% off   \n",
      "1   TCL C69B 139 cm (55 inch) QLED Ultra HD (4K) S...  ₹36,990   69% off   \n",
      "2   iFFALCON by TCL U64 139 cm (55 inch) Ultra HD ...  ₹26,999   63% off   \n",
      "3   REDMI MI XIAOMI 138 cm (55 inch) Ultra HD (4K)...  ₹32,999   40% off   \n",
      "4   REDMI MI XIAOMI 108 cm (43 inch) Ultra HD (4K)...  ₹26,999   37% off   \n",
      "..                                                ...      ...       ...   \n",
      "67  realme TechLife 233 L Frost Free Double Door 2...  ₹18,990   40% off   \n",
      "68  Panasonic 357 L Frost Free Double Door 2 Star ...  ₹48,990   12% off   \n",
      "69  Panasonic 401 L Frost Free Double Door 2 Star ...  ₹56,990   28% off   \n",
      "70  SAMSUNG 236 L Frost Free Double Door 3 Star Co...  ₹26,990   29% off   \n",
      "71  Haier 240 L Frost Free Double Door 2 Star Refr...  ₹21,790   37% off   \n",
      "\n",
      "   Ratings  \n",
      "0      4.4  \n",
      "1      4.2  \n",
      "2      4.2  \n",
      "3      4.2  \n",
      "4      4.2  \n",
      "..     ...  \n",
      "67       5  \n",
      "68     4.4  \n",
      "69       5  \n",
      "70       5  \n",
      "71     4.1  \n",
      "\n",
      "[72 rows x 4 columns]\n"
     ]
    }
   ],
   "source": [
    "df=pd.DataFrame({\"Product Name\":Product_Names,\"Prices\":prices,\"Discounts\":Discounts,\"Ratings\":Ratings})\n",
    "print(df)"
   ]
  },
  {
   "cell_type": "code",
   "execution_count": 189,
   "id": "eb2b8e71-37ec-45ea-836c-bf32e99432bb",
   "metadata": {},
   "outputs": [],
   "source": [
    "df.to_csv(\"Flipkart_web_scrapping.csv\")"
   ]
  }
 ],
 "metadata": {
  "kernelspec": {
   "display_name": "Python [conda env:base] *",
   "language": "python",
   "name": "conda-base-py"
  },
  "language_info": {
   "codemirror_mode": {
    "name": "ipython",
    "version": 3
   },
   "file_extension": ".py",
   "mimetype": "text/x-python",
   "name": "python",
   "nbconvert_exporter": "python",
   "pygments_lexer": "ipython3",
   "version": "3.12.7"
  }
 },
 "nbformat": 4,
 "nbformat_minor": 5
}
